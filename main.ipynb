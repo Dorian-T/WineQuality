{
 "cells": [
  {
   "cell_type": "markdown",
   "metadata": {},
   "source": [
    "\n",
    "# Wine quality prediction with a Dense Network (DNN)\n",
    "\n",
    "Inspired by the [wine quality Fidle tutorial](https://fidle.cnrs.fr/w3/)\n"
   ]
  },
  {
   "cell_type": "markdown",
   "metadata": {},
   "source": [
    "## 0. Parameters"
   ]
  },
  {
   "cell_type": "code",
   "execution_count": 62,
   "metadata": {},
   "outputs": [],
   "source": [
    "dataset_name = 'winequality_red.csv'\n",
    "hidden_size = 64\n",
    "num_epochs = 100\n",
    "num_tests = 10"
   ]
  },
  {
   "cell_type": "markdown",
   "metadata": {},
   "source": [
    "## 1. Imports\n"
   ]
  },
  {
   "cell_type": "code",
   "execution_count": 63,
   "metadata": {},
   "outputs": [],
   "source": [
    "import matplotlib.pyplot as plt\n",
    "import numpy as np\n",
    "import os\n",
    "import pandas as pd\n",
    "import time\n",
    "import torch\n",
    "import torch.nn as nn\n",
    "import torch.optim as optim\n",
    "from torch.utils.data import DataLoader, TensorDataset"
   ]
  },
  {
   "cell_type": "markdown",
   "metadata": {},
   "source": [
    "## 2. Retrieve data"
   ]
  },
  {
   "cell_type": "code",
   "execution_count": 64,
   "metadata": {},
   "outputs": [
    {
     "data": {
      "text/html": [
       "<div>\n",
       "<style scoped>\n",
       "    .dataframe tbody tr th:only-of-type {\n",
       "        vertical-align: middle;\n",
       "    }\n",
       "\n",
       "    .dataframe tbody tr th {\n",
       "        vertical-align: top;\n",
       "    }\n",
       "\n",
       "    .dataframe thead th {\n",
       "        text-align: right;\n",
       "    }\n",
       "</style>\n",
       "<table border=\"1\" class=\"dataframe\">\n",
       "  <thead>\n",
       "    <tr style=\"text-align: right;\">\n",
       "      <th></th>\n",
       "      <th>fixed acidity</th>\n",
       "      <th>volatile acidity</th>\n",
       "      <th>citric acid</th>\n",
       "      <th>residual sugar</th>\n",
       "      <th>chlorides</th>\n",
       "      <th>free sulfur dioxide</th>\n",
       "      <th>total sulfur dioxide</th>\n",
       "      <th>density</th>\n",
       "      <th>pH</th>\n",
       "      <th>sulphates</th>\n",
       "      <th>alcohol</th>\n",
       "      <th>quality</th>\n",
       "    </tr>\n",
       "  </thead>\n",
       "  <tbody>\n",
       "    <tr>\n",
       "      <th>0</th>\n",
       "      <td>7.4</td>\n",
       "      <td>0.70</td>\n",
       "      <td>0.00</td>\n",
       "      <td>1.9</td>\n",
       "      <td>0.076</td>\n",
       "      <td>11.0</td>\n",
       "      <td>34.0</td>\n",
       "      <td>0.9978</td>\n",
       "      <td>3.51</td>\n",
       "      <td>0.56</td>\n",
       "      <td>9.4</td>\n",
       "      <td>5</td>\n",
       "    </tr>\n",
       "    <tr>\n",
       "      <th>1</th>\n",
       "      <td>7.8</td>\n",
       "      <td>0.88</td>\n",
       "      <td>0.00</td>\n",
       "      <td>2.6</td>\n",
       "      <td>0.098</td>\n",
       "      <td>25.0</td>\n",
       "      <td>67.0</td>\n",
       "      <td>0.9968</td>\n",
       "      <td>3.20</td>\n",
       "      <td>0.68</td>\n",
       "      <td>9.8</td>\n",
       "      <td>5</td>\n",
       "    </tr>\n",
       "    <tr>\n",
       "      <th>2</th>\n",
       "      <td>7.8</td>\n",
       "      <td>0.76</td>\n",
       "      <td>0.04</td>\n",
       "      <td>2.3</td>\n",
       "      <td>0.092</td>\n",
       "      <td>15.0</td>\n",
       "      <td>54.0</td>\n",
       "      <td>0.9970</td>\n",
       "      <td>3.26</td>\n",
       "      <td>0.65</td>\n",
       "      <td>9.8</td>\n",
       "      <td>5</td>\n",
       "    </tr>\n",
       "    <tr>\n",
       "      <th>3</th>\n",
       "      <td>11.2</td>\n",
       "      <td>0.28</td>\n",
       "      <td>0.56</td>\n",
       "      <td>1.9</td>\n",
       "      <td>0.075</td>\n",
       "      <td>17.0</td>\n",
       "      <td>60.0</td>\n",
       "      <td>0.9980</td>\n",
       "      <td>3.16</td>\n",
       "      <td>0.58</td>\n",
       "      <td>9.8</td>\n",
       "      <td>6</td>\n",
       "    </tr>\n",
       "    <tr>\n",
       "      <th>4</th>\n",
       "      <td>7.4</td>\n",
       "      <td>0.70</td>\n",
       "      <td>0.00</td>\n",
       "      <td>1.9</td>\n",
       "      <td>0.076</td>\n",
       "      <td>11.0</td>\n",
       "      <td>34.0</td>\n",
       "      <td>0.9978</td>\n",
       "      <td>3.51</td>\n",
       "      <td>0.56</td>\n",
       "      <td>9.4</td>\n",
       "      <td>5</td>\n",
       "    </tr>\n",
       "  </tbody>\n",
       "</table>\n",
       "</div>"
      ],
      "text/plain": [
       "   fixed acidity  volatile acidity  citric acid  residual sugar  chlorides  \\\n",
       "0            7.4              0.70         0.00             1.9      0.076   \n",
       "1            7.8              0.88         0.00             2.6      0.098   \n",
       "2            7.8              0.76         0.04             2.3      0.092   \n",
       "3           11.2              0.28         0.56             1.9      0.075   \n",
       "4            7.4              0.70         0.00             1.9      0.076   \n",
       "\n",
       "   free sulfur dioxide  total sulfur dioxide  density    pH  sulphates  \\\n",
       "0                 11.0                  34.0   0.9978  3.51       0.56   \n",
       "1                 25.0                  67.0   0.9968  3.20       0.68   \n",
       "2                 15.0                  54.0   0.9970  3.26       0.65   \n",
       "3                 17.0                  60.0   0.9980  3.16       0.58   \n",
       "4                 11.0                  34.0   0.9978  3.51       0.56   \n",
       "\n",
       "   alcohol  quality  \n",
       "0      9.4        5  \n",
       "1      9.8        5  \n",
       "2      9.8        5  \n",
       "3      9.8        6  \n",
       "4      9.4        5  "
      ]
     },
     "metadata": {},
     "output_type": "display_data"
    }
   ],
   "source": [
    "data = pd.read_csv(f\"data/{dataset_name}\", header=0, sep=';')\n",
    "display(data.head())"
   ]
  },
  {
   "cell_type": "markdown",
   "metadata": {},
   "source": [
    "## 3. Preparing the data"
   ]
  },
  {
   "cell_type": "code",
   "execution_count": 65,
   "metadata": {},
   "outputs": [],
   "source": [
    "# Shuffle and split the data\n",
    "data       = data.sample(frac=1., axis=0)\n",
    "data_train = data.sample(frac=0.8, axis=0)\n",
    "data_test  = data.drop(data_train.index)\n",
    "\n",
    "# Split the data into input (x) and target (y)\n",
    "x_train = data_train.drop('quality', axis=1)\n",
    "y_train = data_train['quality']\n",
    "x_test  = data_test.drop('quality', axis=1)\n",
    "y_test  = data_test['quality']\n",
    "\n",
    "# Normalize the data\n",
    "mean = x_train.mean()\n",
    "std  = x_train.std()\n",
    "x_train = (x_train - mean) / std\n",
    "x_test  = (x_test  - mean) / std\n",
    "\n",
    "# Convert the data to PyTorch tensors\n",
    "x_train = torch.tensor(x_train.values, dtype=torch.float32)\n",
    "y_train = torch.tensor(y_train.values, dtype=torch.float32).view(-1, 1)\n",
    "x_test  = torch.tensor(x_test.values,  dtype=torch.float32)\n",
    "y_test  = torch.tensor(y_test.values,  dtype=torch.float32).view(-1, 1)\n",
    "\n",
    "# Create the data loaders\n",
    "train_dataset = TensorDataset(x_train, y_train)\n",
    "train_loader  = DataLoader(train_dataset, batch_size=32, shuffle=True)\n",
    "test_dataset  = TensorDataset(x_test, y_test)\n",
    "test_loader   = DataLoader(test_dataset, batch_size=32, shuffle=False)"
   ]
  },
  {
   "cell_type": "markdown",
   "metadata": {},
   "source": [
    "## 4. Build the model"
   ]
  },
  {
   "cell_type": "code",
   "execution_count": 66,
   "metadata": {},
   "outputs": [
    {
     "data": {
      "text/plain": [
       "Model(\n",
       "  (relu): ReLU()\n",
       "  (fc1): Linear(in_features=11, out_features=64, bias=True)\n",
       "  (fc2): Linear(in_features=64, out_features=64, bias=True)\n",
       "  (fc3): Linear(in_features=64, out_features=1, bias=True)\n",
       ")"
      ]
     },
     "metadata": {},
     "output_type": "display_data"
    }
   ],
   "source": [
    "# Define the model\n",
    "class Model(nn.Module):\n",
    "\tdef __init__(self, input_size, hidden_size, output_size):\n",
    "\t\tsuper(Model, self).__init__()\n",
    "\t\tself.relu = nn.ReLU()\n",
    "\t\tself.fc1 = nn.Linear(input_size, hidden_size)\n",
    "\t\tself.fc2 = nn.Linear(hidden_size, hidden_size)\n",
    "\t\tself.fc3 = nn.Linear(hidden_size, output_size)\n",
    "\n",
    "\tdef forward(self, x):\n",
    "\t\tx = self.fc1(x)\n",
    "\t\tx = self.relu(x)\n",
    "\t\tx = self.fc2(x)\n",
    "\t\tx = self.relu(x)\n",
    "\t\tx = self.fc3(x)\n",
    "\t\treturn x\n",
    "\n",
    "# Create the model\n",
    "model = Model(x_train.shape[1], hidden_size, 1)\n",
    "display(model)\n",
    "\n",
    "# Define the loss function and optimizer\n",
    "criterion = nn.MSELoss()\n",
    "optimizer = optim.RMSprop(model.parameters(), lr=0.01)"
   ]
  },
  {
   "cell_type": "markdown",
   "metadata": {},
   "source": [
    "## 5. Train the model"
   ]
  },
  {
   "cell_type": "code",
   "execution_count": 67,
   "metadata": {},
   "outputs": [
    {
     "name": "stdout",
     "output_type": "stream",
     "text": [
      "Epoch 10/100,\tLoss: 0.4410,\tVal MAE: 0.5921\n",
      "Epoch 20/100,\tLoss: 0.3847,\tVal MAE: 0.5342\n",
      "Epoch 30/100,\tLoss: 0.3235,\tVal MAE: 0.4913\n",
      "Epoch 40/100,\tLoss: 0.3655,\tVal MAE: 0.5004\n",
      "Epoch 50/100,\tLoss: 0.3409,\tVal MAE: 0.4614\n",
      "Epoch 60/100,\tLoss: 0.2790,\tVal MAE: 0.4744\n",
      "Epoch 70/100,\tLoss: 0.1981,\tVal MAE: 0.5347\n",
      "Epoch 80/100,\tLoss: 0.1882,\tVal MAE: 0.5047\n",
      "Epoch 90/100,\tLoss: 0.3415,\tVal MAE: 0.5453\n",
      "Epoch 100/100,\tLoss: 0.1500,\tVal MAE: 0.4819\n"
     ]
    }
   ],
   "source": [
    "# Create a directory to save the model\n",
    "os.makedirs('./models',   mode=0o750, exist_ok=True)\n",
    "save_dir = f\"./models/{dataset_name.split('.')[0]}_model.pth\"\n",
    "\n",
    "best_val_mae = float('inf')\n",
    "train_losses = []\n",
    "train_maes   = []\n",
    "train_mses   = []\n",
    "test_losses  = []\n",
    "test_maes    = []\n",
    "test_mses    = []\n",
    "\n",
    "for epoch in range(num_epochs):\n",
    "\n",
    "\t# Train the model\n",
    "\tmodel.train()\n",
    "\ttrain_loss = 0\n",
    "\ttrain_mae  = 0\n",
    "\ttrain_mse  = 0\n",
    "\n",
    "\tfor inputs, targets in train_loader:\n",
    "\t\toptimizer.zero_grad()\n",
    "\t\toutputs = model(inputs)\n",
    "\t\tloss = criterion(outputs, targets)\n",
    "\t\tloss.backward()\n",
    "\t\toptimizer.step()\n",
    "\n",
    "\t\ttrain_loss += loss.item()\n",
    "\t\ttrain_mae  += torch.mean(torch.abs(outputs - targets)).item()\n",
    "\t\ttrain_mse  += torch.mean((outputs - targets)**2).item()\n",
    "\n",
    "\ttrain_losses.append(train_loss / len(train_loader))\n",
    "\ttrain_maes.append(train_mae / len(train_loader))\n",
    "\ttrain_mses.append(train_mse / len(train_loader))\n",
    "\n",
    "\t# Evaluate the model\n",
    "\tmodel.eval()\n",
    "\ttest_loss = 0\n",
    "\ttest_mae = 0\n",
    "\ttest_mse = 0\n",
    "\n",
    "\twith torch.no_grad():\n",
    "\t\tfor inputs, targets in test_loader:\n",
    "\t\t\toutputs = model(inputs)\n",
    "\t\t\ttest_loss += criterion(outputs, targets).item()\n",
    "\t\t\ttest_mae += torch.mean(torch.abs(outputs - targets)).item()\n",
    "\t\t\ttest_mse += torch.mean((outputs - targets)**2).item()\n",
    "\n",
    "\ttest_losses.append(test_loss / len(test_loader))\n",
    "\ttest_maes.append(test_mae / len(test_loader))\n",
    "\ttest_mses.append(test_mse / len(test_loader))\n",
    "\tif (epoch + 1) % 10 == 0:\n",
    "\t\tprint(f\"Epoch {epoch+1}/{num_epochs},\\tLoss: {loss.item():.4f},\\tVal MAE: {test_maes[-1]:.4f}\")\n",
    "\n",
    "\t# Save the model if the validation MAE improves\n",
    "\tif test_maes[-1] < best_val_mae:\n",
    "\t\tbest_val_mae = test_maes[-1]\n",
    "\t\ttorch.save(model.state_dict(), save_dir)\n"
   ]
  },
  {
   "cell_type": "markdown",
   "metadata": {},
   "source": [
    "## 6. Evaluate"
   ]
  },
  {
   "cell_type": "code",
   "execution_count": 68,
   "metadata": {},
   "outputs": [
    {
     "data": {
      "image/png": "[encoded data removed]",
      "text/plain": [
       "<Figure size 1200x400 with 3 Axes>"
      ]
     },
     "metadata": {},
     "output_type": "display_data"
    }
   ],
   "source": [
    "epochs = range(1, num_epochs + 1)\n",
    "plt.figure(figsize=(12, 4))\n",
    "\n",
    "# Plot the loss\n",
    "plt.subplot(1, 3, 1)\n",
    "plt.plot(epochs, train_losses, 'b', label='Train')\n",
    "plt.plot(epochs, test_losses, 'r', label='Test')\n",
    "plt.title('Loss')\n",
    "plt.xlabel('Epochs')\n",
    "plt.ylabel('Loss')\n",
    "plt.legend()\n",
    "plt.annotate(\n",
    "\tf'{train_losses[-1]:.2f}',\n",
    "\txy=(epochs[-1], train_losses[-1]),\n",
    "\txytext=(epochs[-1], train_losses[-1]),\n",
    "\tcolor='blue',\n",
    "\tarrowprops=None\n",
    ")\n",
    "plt.annotate(\n",
    "\tf'{test_losses[-1]:.2f}',\n",
    "\txy=(epochs[-1], test_losses[-1]),\n",
    "\txytext=(epochs[-1], test_losses[-1]),\n",
    "\tcolor='red',\n",
    "\tarrowprops=None\n",
    ")\n",
    "\n",
    "# Plot the MAE\n",
    "plt.subplot(1, 3, 2)\n",
    "plt.plot(epochs, train_maes, 'b', label='Train')\n",
    "plt.plot(epochs, test_maes, 'r', label='Test')\n",
    "plt.title('Mean Absolute Error')\n",
    "plt.xlabel('Epochs')\n",
    "plt.ylabel('MAE')\n",
    "plt.legend()\n",
    "plt.annotate(\n",
    "\tf'{train_maes[-1]:.2f}',\n",
    "\txy=(epochs[-1], train_maes[-1]),\n",
    "\txytext=(epochs[-1], train_maes[-1]),\n",
    "\tcolor='blue',\n",
    "\tarrowprops=None\n",
    ")\n",
    "plt.annotate(\n",
    "\tf'{test_maes[-1]:.2f}',\n",
    "\txy=(epochs[-1], test_maes[-1]),\n",
    "\txytext=(epochs[-1], test_maes[-1]),\n",
    "\tcolor='red',\n",
    "\tarrowprops=None\n",
    ")\n",
    "\n",
    "# Plot the MSE\n",
    "plt.subplot(1, 3, 3)\n",
    "plt.plot(epochs, train_mses, 'b', label='Train')\n",
    "plt.plot(epochs, test_mses, 'r', label='Test')\n",
    "plt.title('Mean Squared Error')\n",
    "plt.xlabel('Epochs')\n",
    "plt.ylabel('MSE')\n",
    "plt.legend()\n",
    "plt.annotate(\n",
    "\tf'{train_mses[-1]:.2f}',\n",
    "\txy=(epochs[-1], train_mses[-1]),\n",
    "\txytext=(epochs[-1], train_mses[-1]),\n",
    "\tcolor='blue',\n",
    "\tarrowprops=None\n",
    ")\n",
    "plt.annotate(\n",
    "\tf'{test_mses[-1]:.2f}',\n",
    "\txy=(epochs[-1], test_mses[-1]),\n",
    "\txytext=(epochs[-1], test_mses[-1]),\n",
    "\tcolor='red',\n",
    "\tarrowprops=None\n",
    ")\n",
    "\n",
    "plt.tight_layout()\n",
    "plt.show()"
   ]
  },
  {
   "cell_type": "markdown",
   "metadata": {
    "notebookRunGroups": {
     "groupValue": "2"
    }
   },
   "source": [
    "## 7. Restore a model"
   ]
  },
  {
   "cell_type": "code",
   "execution_count": 69,
   "metadata": {},
   "outputs": [
    {
     "data": {
      "text/plain": [
       "Model(\n",
       "  (relu): ReLU()\n",
       "  (fc1): Linear(in_features=11, out_features=64, bias=True)\n",
       "  (fc2): Linear(in_features=64, out_features=64, bias=True)\n",
       "  (fc3): Linear(in_features=64, out_features=1, bias=True)\n",
       ")"
      ]
     },
     "metadata": {},
     "output_type": "display_data"
    }
   ],
   "source": [
    "model_path = f'./models/{dataset_name.split(\".\")[0]}_model.pth'\n",
    "model = Model(x_train.shape[1], hidden_size, 1)\n",
    "model.load_state_dict(torch.load(model_path, weights_only=True))\n",
    "display(model)"
   ]
  },
  {
   "cell_type": "markdown",
   "metadata": {},
   "source": [
    "## 8. Make a prediction"
   ]
  },
  {
   "cell_type": "code",
   "execution_count": 70,
   "metadata": {},
   "outputs": [
    {
     "name": "stdout",
     "output_type": "stream",
     "text": [
      "Real\tPredicted\tError\n",
      "5.00\t5.36\t\t0.36\n",
      "5.00\t4.94\t\t0.06\n",
      "5.00\t4.95\t\t0.05\n",
      "5.00\t5.23\t\t0.23\n",
      "5.00\t5.05\t\t0.05\n",
      "5.00\t6.36\t\t1.36\n",
      "5.00\t5.40\t\t0.40\n",
      "5.00\t5.70\t\t0.70\n",
      "6.00\t6.59\t\t0.59\n",
      "6.00\t5.87\t\t0.13\n"
     ]
    }
   ],
   "source": [
    "# Pick random samples from the test set\n",
    "rng = np.random.default_rng(int(time.time()))\n",
    "indices = rng.choice(len(test_dataset), num_tests, replace=False)\n",
    "\n",
    "# Predict the quality of the samples\n",
    "model.eval()\n",
    "print('Real\\tPredicted\\tError')\n",
    "with torch.no_grad():\n",
    "\tfor i in indices:\n",
    "\t\tx, y = test_dataset[i]\n",
    "\t\ty_hat = model(x).item()\n",
    "\t\ty = y.item()\n",
    "\t\tprint(f'{y:.2f}\\t{y_hat:.2f}\\t\\t{abs(y - y_hat):.2f}')"
   ]
  }
 ],
 "metadata": {
  "kernelspec": {
   "display_name": "Python 3.9.2 ('fidle-env')",
   "language": "python",
   "name": "python3"
  },
  "language_info": {
   "codemirror_mode": {
    "name": "ipython",
    "version": 3
   },
   "file_extension": ".py",
   "mimetype": "text/x-python",
   "name": "python",
   "nbconvert_exporter": "python",
   "pygments_lexer": "ipython3",
   "version": "3.12.4"
  },
  "vscode": {
   "interpreter": {
    "hash": "b3929042cc22c1274d74e3e946c52b845b57cb6d84f2d591ffe0519b38e4896d"
   }
  }
 },
 "nbformat": 4,
 "nbformat_minor": 4
}
