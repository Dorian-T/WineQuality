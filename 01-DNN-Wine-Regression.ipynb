{
 "cells": [
  {
   "cell_type": "markdown",
   "metadata": {},
   "source": [
    "<img width=\"800px\" src=\"../fidle/img/header.svg\"></img>\n",
    "\n",
    "# <!-- TITLE --> [K3WINE1] - Wine quality prediction with a Dense Network (DNN)\n",
    "  <!-- DESC -->  Another example of regression, with a wine quality prediction, using Keras 3 and PyTorch\n",
    "  <!-- AUTHOR : Jean-Luc Parouty (CNRS/SIMaP) -->\n",
    "\n",
    "## Objectives :\n",
    " - Predict the **quality of wines**, based on their analysis\n",
    " - Understanding the principle and the architecture of a regression with a dense neural network with backup and restore of the trained model. \n",
    "\n",
    "The **[Wine Quality datasets](https://archive.ics.uci.edu/ml/datasets/wine+Quality)** are made up of analyses of a large number of wines, with an associated quality (between 0 and 10)  \n",
    "This dataset is provide by :  \n",
    "Paulo Cortez, University of Minho, Guimarães, Portugal, http://www3.dsi.uminho.pt/pcortez  \n",
    "A. Cerdeira, F. Almeida, T. Matos and J. Reis, Viticulture Commission of the Vinho Verde Region(CVRVV), Porto, Portugal, @2009  \n",
    "This dataset can be retreive at [University of California Irvine (UCI)](https://archive.ics.uci.edu/dataset/186/wine+quality)\n",
    "\n",
    "\n",
    "Due to privacy and logistic issues, only physicochemical and sensory variables are available  \n",
    "There is no data about grape types, wine brand, wine selling price, etc.\n",
    "\n",
    "- fixed acidity\n",
    "- volatile acidity\n",
    "- citric acid\n",
    "- residual sugar\n",
    "- chlorides\n",
    "- free sulfur dioxide\n",
    "- total sulfur dioxide\n",
    "- density\n",
    "- pH\n",
    "- sulphates\n",
    "- alcohol\n",
    "- quality (score between 0 and 10)\n",
    "\n",
    "## What we're going to do :\n",
    "\n",
    " - (Retrieve data)\n",
    " - (Preparing the data)\n",
    " - (Build a model)\n",
    " - Train and save the model\n",
    " - Restore saved model\n",
    " - Evaluate the model\n",
    " - Make some predictions\n"
   ]
  },
  {
   "cell_type": "markdown",
   "metadata": {},
   "source": [
    "## Step 1 - Import and init\n"
   ]
  },
  {
   "cell_type": "code",
   "execution_count": 1,
   "metadata": {},
   "outputs": [
    {
     "data": {
      "text/html": [
       "<style>\n",
       "\n",
       "div.warn {    \n",
       "    background-color: #fcf2f2;\n",
       "    border-color: #dFb5b4;\n",
       "    border-left: 5px solid #dfb5b4;\n",
       "    padding: 0.5em;\n",
       "    font-weight: bold;\n",
       "    font-size: 1.1em;;\n",
       "    }\n",
       "\n",
       "\n",
       "\n",
       "div.nota {    \n",
       "    background-color: #DAFFDE;\n",
       "    border-left: 5px solid #92CC99;\n",
       "    padding: 0.5em;\n",
       "    }\n",
       "\n",
       "div.todo:before { content:url(data:image/svg+xml;base64,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);\n",
       "    float:left;\n",
       "    margin-right:20px;\n",
       "    margin-top:-20px;\n",
       "    margin-bottom:20px;\n",
       "}\n",
       "div.todo{\n",
       "    font-weight: bold;\n",
       "    font-size: 1.1em;\n",
       "    margin-top:40px;\n",
       "}\n",
       "div.todo ul{\n",
       "    margin: 0.2em;\n",
       "}\n",
       "div.todo li{\n",
       "    margin-left:60px;\n",
       "    margin-top:0;\n",
       "    margin-bottom:0;\n",
       "}\n",
       "\n",
       "div .comment{\n",
       "    font-size:0.8em;\n",
       "    color:#696969;\n",
       "}\n",
       "\n",
       "\n",
       "\n",
       "</style>\n",
       "\n"
      ],
      "text/plain": [
       "<IPython.core.display.HTML object>"
      ]
     },
     "metadata": {},
     "output_type": "display_data"
    },
    {
     "data": {
      "text/markdown": [
       "<br>**FIDLE - Environment initialization**"
      ],
      "text/plain": [
       "<IPython.core.display.Markdown object>"
      ]
     },
     "metadata": {},
     "output_type": "display_data"
    },
    {
     "name": "stdout",
     "output_type": "stream",
     "text": [
      "Version              : 2.3.2\n",
      "Run id               : K3WINE1\n",
      "Run dir              : ./run/K3WINE1\n",
      "Datasets dir         : /home/dorian/fidle-tp/datasets-fidle\n",
      "Start time           : 15/08/24 10:46:56\n",
      "Hostname             : Victus-DT (Linux)\n",
      "Tensorflow log level : Info + Warning + Error  (=0)\n",
      "Update keras cache   : False\n",
      "Update torch cache   : False\n",
      "Save figs            : ./run/K3WINE1/figs (False)\n",
      "keras                : 3.5.0\n",
      "numpy                : 1.26.3\n",
      "sklearn              : 1.5.1\n",
      "yaml                 : 6.0.2\n",
      "matplotlib           : 3.9.2\n",
      "pandas               : 2.2.2\n",
      "torch                : 2.4.0+cu124\n"
     ]
    }
   ],
   "source": [
    "import os\n",
    "os.environ['KERAS_BACKEND'] = 'torch'\n",
    "\n",
    "import keras\n",
    "\n",
    "import numpy as np\n",
    "import pandas as pd\n",
    "\n",
    "import fidle\n",
    "\n",
    "# Init Fidle environment\n",
    "run_id, run_dir, datasets_dir = fidle.init('K3WINE1')"
   ]
  },
  {
   "cell_type": "markdown",
   "metadata": {},
   "source": [
    "Verbosity during training : \n",
    "- 0 = silent\n",
    "- 1 = progress bar\n",
    "- 2 = one line per epoch"
   ]
  },
  {
   "cell_type": "code",
   "execution_count": 2,
   "metadata": {},
   "outputs": [],
   "source": [
    "fit_verbosity = 1\n",
    "dataset_name  = 'winequality-red.csv'"
   ]
  },
  {
   "cell_type": "markdown",
   "metadata": {},
   "source": [
    "Override parameters (batch mode) - Just forget this cell"
   ]
  },
  {
   "cell_type": "code",
   "execution_count": 3,
   "metadata": {},
   "outputs": [],
   "source": [
    "fidle.override('fit_verbosity', 'dataset_name')"
   ]
  },
  {
   "cell_type": "markdown",
   "metadata": {},
   "source": [
    "## Step 2 - Retrieve data"
   ]
  },
  {
   "cell_type": "code",
   "execution_count": 4,
   "metadata": {},
   "outputs": [
    {
     "data": {
      "text/html": [
       "<style type=\"text/css\">\n",
       "</style>\n",
       "<table id=\"T_48e66\">\n",
       "  <thead>\n",
       "    <tr>\n",
       "      <th class=\"blank level0\" >&nbsp;</th>\n",
       "      <th id=\"T_48e66_level0_col0\" class=\"col_heading level0 col0\" >fixed acidity</th>\n",
       "      <th id=\"T_48e66_level0_col1\" class=\"col_heading level0 col1\" >volatile acidity</th>\n",
       "      <th id=\"T_48e66_level0_col2\" class=\"col_heading level0 col2\" >citric acid</th>\n",
       "      <th id=\"T_48e66_level0_col3\" class=\"col_heading level0 col3\" >residual sugar</th>\n",
       "      <th id=\"T_48e66_level0_col4\" class=\"col_heading level0 col4\" >chlorides</th>\n",
       "      <th id=\"T_48e66_level0_col5\" class=\"col_heading level0 col5\" >free sulfur dioxide</th>\n",
       "      <th id=\"T_48e66_level0_col6\" class=\"col_heading level0 col6\" >total sulfur dioxide</th>\n",
       "      <th id=\"T_48e66_level0_col7\" class=\"col_heading level0 col7\" >density</th>\n",
       "      <th id=\"T_48e66_level0_col8\" class=\"col_heading level0 col8\" >pH</th>\n",
       "      <th id=\"T_48e66_level0_col9\" class=\"col_heading level0 col9\" >sulphates</th>\n",
       "      <th id=\"T_48e66_level0_col10\" class=\"col_heading level0 col10\" >alcohol</th>\n",
       "      <th id=\"T_48e66_level0_col11\" class=\"col_heading level0 col11\" >quality</th>\n",
       "    </tr>\n",
       "  </thead>\n",
       "  <tbody>\n",
       "    <tr>\n",
       "      <th id=\"T_48e66_level0_row0\" class=\"row_heading level0 row0\" >0</th>\n",
       "      <td id=\"T_48e66_row0_col0\" class=\"data row0 col0\" >7.40</td>\n",
       "      <td id=\"T_48e66_row0_col1\" class=\"data row0 col1\" >0.70</td>\n",
       "      <td id=\"T_48e66_row0_col2\" class=\"data row0 col2\" >0.00</td>\n",
       "      <td id=\"T_48e66_row0_col3\" class=\"data row0 col3\" >1.90</td>\n",
       "      <td id=\"T_48e66_row0_col4\" class=\"data row0 col4\" >0.08</td>\n",
       "      <td id=\"T_48e66_row0_col5\" class=\"data row0 col5\" >11.00</td>\n",
       "      <td id=\"T_48e66_row0_col6\" class=\"data row0 col6\" >34.00</td>\n",
       "      <td id=\"T_48e66_row0_col7\" class=\"data row0 col7\" >1.00</td>\n",
       "      <td id=\"T_48e66_row0_col8\" class=\"data row0 col8\" >3.51</td>\n",
       "      <td id=\"T_48e66_row0_col9\" class=\"data row0 col9\" >0.56</td>\n",
       "      <td id=\"T_48e66_row0_col10\" class=\"data row0 col10\" >9.40</td>\n",
       "      <td id=\"T_48e66_row0_col11\" class=\"data row0 col11\" >5.00</td>\n",
       "    </tr>\n",
       "    <tr>\n",
       "      <th id=\"T_48e66_level0_row1\" class=\"row_heading level0 row1\" >1</th>\n",
       "      <td id=\"T_48e66_row1_col0\" class=\"data row1 col0\" >7.80</td>\n",
       "      <td id=\"T_48e66_row1_col1\" class=\"data row1 col1\" >0.88</td>\n",
       "      <td id=\"T_48e66_row1_col2\" class=\"data row1 col2\" >0.00</td>\n",
       "      <td id=\"T_48e66_row1_col3\" class=\"data row1 col3\" >2.60</td>\n",
       "      <td id=\"T_48e66_row1_col4\" class=\"data row1 col4\" >0.10</td>\n",
       "      <td id=\"T_48e66_row1_col5\" class=\"data row1 col5\" >25.00</td>\n",
       "      <td id=\"T_48e66_row1_col6\" class=\"data row1 col6\" >67.00</td>\n",
       "      <td id=\"T_48e66_row1_col7\" class=\"data row1 col7\" >1.00</td>\n",
       "      <td id=\"T_48e66_row1_col8\" class=\"data row1 col8\" >3.20</td>\n",
       "      <td id=\"T_48e66_row1_col9\" class=\"data row1 col9\" >0.68</td>\n",
       "      <td id=\"T_48e66_row1_col10\" class=\"data row1 col10\" >9.80</td>\n",
       "      <td id=\"T_48e66_row1_col11\" class=\"data row1 col11\" >5.00</td>\n",
       "    </tr>\n",
       "    <tr>\n",
       "      <th id=\"T_48e66_level0_row2\" class=\"row_heading level0 row2\" >2</th>\n",
       "      <td id=\"T_48e66_row2_col0\" class=\"data row2 col0\" >7.80</td>\n",
       "      <td id=\"T_48e66_row2_col1\" class=\"data row2 col1\" >0.76</td>\n",
       "      <td id=\"T_48e66_row2_col2\" class=\"data row2 col2\" >0.04</td>\n",
       "      <td id=\"T_48e66_row2_col3\" class=\"data row2 col3\" >2.30</td>\n",
       "      <td id=\"T_48e66_row2_col4\" class=\"data row2 col4\" >0.09</td>\n",
       "      <td id=\"T_48e66_row2_col5\" class=\"data row2 col5\" >15.00</td>\n",
       "      <td id=\"T_48e66_row2_col6\" class=\"data row2 col6\" >54.00</td>\n",
       "      <td id=\"T_48e66_row2_col7\" class=\"data row2 col7\" >1.00</td>\n",
       "      <td id=\"T_48e66_row2_col8\" class=\"data row2 col8\" >3.26</td>\n",
       "      <td id=\"T_48e66_row2_col9\" class=\"data row2 col9\" >0.65</td>\n",
       "      <td id=\"T_48e66_row2_col10\" class=\"data row2 col10\" >9.80</td>\n",
       "      <td id=\"T_48e66_row2_col11\" class=\"data row2 col11\" >5.00</td>\n",
       "    </tr>\n",
       "    <tr>\n",
       "      <th id=\"T_48e66_level0_row3\" class=\"row_heading level0 row3\" >3</th>\n",
       "      <td id=\"T_48e66_row3_col0\" class=\"data row3 col0\" >11.20</td>\n",
       "      <td id=\"T_48e66_row3_col1\" class=\"data row3 col1\" >0.28</td>\n",
       "      <td id=\"T_48e66_row3_col2\" class=\"data row3 col2\" >0.56</td>\n",
       "      <td id=\"T_48e66_row3_col3\" class=\"data row3 col3\" >1.90</td>\n",
       "      <td id=\"T_48e66_row3_col4\" class=\"data row3 col4\" >0.07</td>\n",
       "      <td id=\"T_48e66_row3_col5\" class=\"data row3 col5\" >17.00</td>\n",
       "      <td id=\"T_48e66_row3_col6\" class=\"data row3 col6\" >60.00</td>\n",
       "      <td id=\"T_48e66_row3_col7\" class=\"data row3 col7\" >1.00</td>\n",
       "      <td id=\"T_48e66_row3_col8\" class=\"data row3 col8\" >3.16</td>\n",
       "      <td id=\"T_48e66_row3_col9\" class=\"data row3 col9\" >0.58</td>\n",
       "      <td id=\"T_48e66_row3_col10\" class=\"data row3 col10\" >9.80</td>\n",
       "      <td id=\"T_48e66_row3_col11\" class=\"data row3 col11\" >6.00</td>\n",
       "    </tr>\n",
       "    <tr>\n",
       "      <th id=\"T_48e66_level0_row4\" class=\"row_heading level0 row4\" >4</th>\n",
       "      <td id=\"T_48e66_row4_col0\" class=\"data row4 col0\" >7.40</td>\n",
       "      <td id=\"T_48e66_row4_col1\" class=\"data row4 col1\" >0.70</td>\n",
       "      <td id=\"T_48e66_row4_col2\" class=\"data row4 col2\" >0.00</td>\n",
       "      <td id=\"T_48e66_row4_col3\" class=\"data row4 col3\" >1.90</td>\n",
       "      <td id=\"T_48e66_row4_col4\" class=\"data row4 col4\" >0.08</td>\n",
       "      <td id=\"T_48e66_row4_col5\" class=\"data row4 col5\" >11.00</td>\n",
       "      <td id=\"T_48e66_row4_col6\" class=\"data row4 col6\" >34.00</td>\n",
       "      <td id=\"T_48e66_row4_col7\" class=\"data row4 col7\" >1.00</td>\n",
       "      <td id=\"T_48e66_row4_col8\" class=\"data row4 col8\" >3.51</td>\n",
       "      <td id=\"T_48e66_row4_col9\" class=\"data row4 col9\" >0.56</td>\n",
       "      <td id=\"T_48e66_row4_col10\" class=\"data row4 col10\" >9.40</td>\n",
       "      <td id=\"T_48e66_row4_col11\" class=\"data row4 col11\" >5.00</td>\n",
       "    </tr>\n",
       "  </tbody>\n",
       "</table>\n"
      ],
      "text/plain": [
       "<pandas.io.formats.style.Styler at 0x7f86cc2a4fa0>"
      ]
     },
     "metadata": {},
     "output_type": "display_data"
    },
    {
     "name": "stdout",
     "output_type": "stream",
     "text": [
      "Missing Data :  0   Shape is :  (1599, 12)\n"
     ]
    }
   ],
   "source": [
    "data = pd.read_csv(f'{datasets_dir}/WineQuality/origine/{dataset_name}', header=0,sep=';')\n",
    "\n",
    "display(data.head(5).style.format(\"{0:.2f}\"))\n",
    "print('Missing Data : ',data.isna().sum().sum(), '  Shape is : ', data.shape)"
   ]
  },
  {
   "cell_type": "markdown",
   "metadata": {},
   "source": [
    "## Step 3 - Preparing the data\n",
    "### 3.1 - Split data\n",
    "We will use 80% of the data for training and 20% for validation.  \n",
    "x will be the data of the analysis and y the quality"
   ]
  },
  {
   "cell_type": "code",
   "execution_count": 5,
   "metadata": {},
   "outputs": [
    {
     "name": "stdout",
     "output_type": "stream",
     "text": [
      "Original data shape was :  (1599, 12)\n",
      "x_train :  (1279, 11) y_train :  (1279,)\n",
      "x_test  :  (320, 11) y_test  :  (320,)\n"
     ]
    }
   ],
   "source": [
    "# ---- Split => train, test\n",
    "#\n",
    "data       = data.sample(frac=1., axis=0)     # Shuffle\n",
    "data_train = data.sample(frac=0.8, axis=0)    # get 80 %\n",
    "data_test  = data.drop(data_train.index)      # test = all - train\n",
    "\n",
    "# ---- Split => x,y (medv is price)\n",
    "#\n",
    "x_train = data_train.drop('quality',  axis=1)\n",
    "y_train = data_train['quality']\n",
    "x_test  = data_test.drop('quality',   axis=1)\n",
    "y_test  = data_test['quality']\n",
    "\n",
    "print('Original data shape was : ',data.shape)\n",
    "print('x_train : ',x_train.shape, 'y_train : ',y_train.shape)\n",
    "print('x_test  : ',x_test.shape,  'y_test  : ',y_test.shape)"
   ]
  },
  {
   "cell_type": "markdown",
   "metadata": {},
   "source": [
    "### 3.2 - Data normalization\n",
    "**Note :** \n",
    " - All input data must be normalized, train and test.  \n",
    " - To do this we will subtract the mean and divide by the standard deviation.  \n",
    " - But test data should not be used in any way, even for normalization.  \n",
    " - The mean and the standard deviation will therefore only be calculated with the train data."
   ]
  },
  {
   "cell_type": "code",
   "execution_count": 6,
   "metadata": {},
   "outputs": [
    {
     "data": {
      "text/html": [
       "<style type=\"text/css\">\n",
       "</style>\n",
       "<table id=\"T_f0731\">\n",
       "  <caption>Before normalization :</caption>\n",
       "  <thead>\n",
       "    <tr>\n",
       "      <th class=\"blank level0\" >&nbsp;</th>\n",
       "      <th id=\"T_f0731_level0_col0\" class=\"col_heading level0 col0\" >fixed acidity</th>\n",
       "      <th id=\"T_f0731_level0_col1\" class=\"col_heading level0 col1\" >volatile acidity</th>\n",
       "      <th id=\"T_f0731_level0_col2\" class=\"col_heading level0 col2\" >citric acid</th>\n",
       "      <th id=\"T_f0731_level0_col3\" class=\"col_heading level0 col3\" >residual sugar</th>\n",
       "      <th id=\"T_f0731_level0_col4\" class=\"col_heading level0 col4\" >chlorides</th>\n",
       "      <th id=\"T_f0731_level0_col5\" class=\"col_heading level0 col5\" >free sulfur dioxide</th>\n",
       "      <th id=\"T_f0731_level0_col6\" class=\"col_heading level0 col6\" >total sulfur dioxide</th>\n",
       "      <th id=\"T_f0731_level0_col7\" class=\"col_heading level0 col7\" >density</th>\n",
       "      <th id=\"T_f0731_level0_col8\" class=\"col_heading level0 col8\" >pH</th>\n",
       "      <th id=\"T_f0731_level0_col9\" class=\"col_heading level0 col9\" >sulphates</th>\n",
       "      <th id=\"T_f0731_level0_col10\" class=\"col_heading level0 col10\" >alcohol</th>\n",
       "    </tr>\n",
       "  </thead>\n",
       "  <tbody>\n",
       "    <tr>\n",
       "      <th id=\"T_f0731_level0_row0\" class=\"row_heading level0 row0\" >count</th>\n",
       "      <td id=\"T_f0731_row0_col0\" class=\"data row0 col0\" >1279.00</td>\n",
       "      <td id=\"T_f0731_row0_col1\" class=\"data row0 col1\" >1279.00</td>\n",
       "      <td id=\"T_f0731_row0_col2\" class=\"data row0 col2\" >1279.00</td>\n",
       "      <td id=\"T_f0731_row0_col3\" class=\"data row0 col3\" >1279.00</td>\n",
       "      <td id=\"T_f0731_row0_col4\" class=\"data row0 col4\" >1279.00</td>\n",
       "      <td id=\"T_f0731_row0_col5\" class=\"data row0 col5\" >1279.00</td>\n",
       "      <td id=\"T_f0731_row0_col6\" class=\"data row0 col6\" >1279.00</td>\n",
       "      <td id=\"T_f0731_row0_col7\" class=\"data row0 col7\" >1279.00</td>\n",
       "      <td id=\"T_f0731_row0_col8\" class=\"data row0 col8\" >1279.00</td>\n",
       "      <td id=\"T_f0731_row0_col9\" class=\"data row0 col9\" >1279.00</td>\n",
       "      <td id=\"T_f0731_row0_col10\" class=\"data row0 col10\" >1279.00</td>\n",
       "    </tr>\n",
       "    <tr>\n",
       "      <th id=\"T_f0731_level0_row1\" class=\"row_heading level0 row1\" >mean</th>\n",
       "      <td id=\"T_f0731_row1_col0\" class=\"data row1 col0\" >8.34</td>\n",
       "      <td id=\"T_f0731_row1_col1\" class=\"data row1 col1\" >0.53</td>\n",
       "      <td id=\"T_f0731_row1_col2\" class=\"data row1 col2\" >0.27</td>\n",
       "      <td id=\"T_f0731_row1_col3\" class=\"data row1 col3\" >2.53</td>\n",
       "      <td id=\"T_f0731_row1_col4\" class=\"data row1 col4\" >0.09</td>\n",
       "      <td id=\"T_f0731_row1_col5\" class=\"data row1 col5\" >15.80</td>\n",
       "      <td id=\"T_f0731_row1_col6\" class=\"data row1 col6\" >46.14</td>\n",
       "      <td id=\"T_f0731_row1_col7\" class=\"data row1 col7\" >1.00</td>\n",
       "      <td id=\"T_f0731_row1_col8\" class=\"data row1 col8\" >3.31</td>\n",
       "      <td id=\"T_f0731_row1_col9\" class=\"data row1 col9\" >0.66</td>\n",
       "      <td id=\"T_f0731_row1_col10\" class=\"data row1 col10\" >10.42</td>\n",
       "    </tr>\n",
       "    <tr>\n",
       "      <th id=\"T_f0731_level0_row2\" class=\"row_heading level0 row2\" >std</th>\n",
       "      <td id=\"T_f0731_row2_col0\" class=\"data row2 col0\" >1.77</td>\n",
       "      <td id=\"T_f0731_row2_col1\" class=\"data row2 col1\" >0.18</td>\n",
       "      <td id=\"T_f0731_row2_col2\" class=\"data row2 col2\" >0.19</td>\n",
       "      <td id=\"T_f0731_row2_col3\" class=\"data row2 col3\" >1.44</td>\n",
       "      <td id=\"T_f0731_row2_col4\" class=\"data row2 col4\" >0.05</td>\n",
       "      <td id=\"T_f0731_row2_col5\" class=\"data row2 col5\" >10.52</td>\n",
       "      <td id=\"T_f0731_row2_col6\" class=\"data row2 col6\" >32.81</td>\n",
       "      <td id=\"T_f0731_row2_col7\" class=\"data row2 col7\" >0.00</td>\n",
       "      <td id=\"T_f0731_row2_col8\" class=\"data row2 col8\" >0.16</td>\n",
       "      <td id=\"T_f0731_row2_col9\" class=\"data row2 col9\" >0.17</td>\n",
       "      <td id=\"T_f0731_row2_col10\" class=\"data row2 col10\" >1.04</td>\n",
       "    </tr>\n",
       "    <tr>\n",
       "      <th id=\"T_f0731_level0_row3\" class=\"row_heading level0 row3\" >min</th>\n",
       "      <td id=\"T_f0731_row3_col0\" class=\"data row3 col0\" >4.60</td>\n",
       "      <td id=\"T_f0731_row3_col1\" class=\"data row3 col1\" >0.12</td>\n",
       "      <td id=\"T_f0731_row3_col2\" class=\"data row3 col2\" >0.00</td>\n",
       "      <td id=\"T_f0731_row3_col3\" class=\"data row3 col3\" >0.90</td>\n",
       "      <td id=\"T_f0731_row3_col4\" class=\"data row3 col4\" >0.01</td>\n",
       "      <td id=\"T_f0731_row3_col5\" class=\"data row3 col5\" >1.00</td>\n",
       "      <td id=\"T_f0731_row3_col6\" class=\"data row3 col6\" >6.00</td>\n",
       "      <td id=\"T_f0731_row3_col7\" class=\"data row3 col7\" >0.99</td>\n",
       "      <td id=\"T_f0731_row3_col8\" class=\"data row3 col8\" >2.74</td>\n",
       "      <td id=\"T_f0731_row3_col9\" class=\"data row3 col9\" >0.33</td>\n",
       "      <td id=\"T_f0731_row3_col10\" class=\"data row3 col10\" >8.40</td>\n",
       "    </tr>\n",
       "    <tr>\n",
       "      <th id=\"T_f0731_level0_row4\" class=\"row_heading level0 row4\" >25%</th>\n",
       "      <td id=\"T_f0731_row4_col0\" class=\"data row4 col0\" >7.10</td>\n",
       "      <td id=\"T_f0731_row4_col1\" class=\"data row4 col1\" >0.39</td>\n",
       "      <td id=\"T_f0731_row4_col2\" class=\"data row4 col2\" >0.09</td>\n",
       "      <td id=\"T_f0731_row4_col3\" class=\"data row4 col3\" >1.90</td>\n",
       "      <td id=\"T_f0731_row4_col4\" class=\"data row4 col4\" >0.07</td>\n",
       "      <td id=\"T_f0731_row4_col5\" class=\"data row4 col5\" >7.00</td>\n",
       "      <td id=\"T_f0731_row4_col6\" class=\"data row4 col6\" >22.00</td>\n",
       "      <td id=\"T_f0731_row4_col7\" class=\"data row4 col7\" >1.00</td>\n",
       "      <td id=\"T_f0731_row4_col8\" class=\"data row4 col8\" >3.21</td>\n",
       "      <td id=\"T_f0731_row4_col9\" class=\"data row4 col9\" >0.55</td>\n",
       "      <td id=\"T_f0731_row4_col10\" class=\"data row4 col10\" >9.50</td>\n",
       "    </tr>\n",
       "    <tr>\n",
       "      <th id=\"T_f0731_level0_row5\" class=\"row_heading level0 row5\" >50%</th>\n",
       "      <td id=\"T_f0731_row5_col0\" class=\"data row5 col0\" >7.90</td>\n",
       "      <td id=\"T_f0731_row5_col1\" class=\"data row5 col1\" >0.52</td>\n",
       "      <td id=\"T_f0731_row5_col2\" class=\"data row5 col2\" >0.26</td>\n",
       "      <td id=\"T_f0731_row5_col3\" class=\"data row5 col3\" >2.20</td>\n",
       "      <td id=\"T_f0731_row5_col4\" class=\"data row5 col4\" >0.08</td>\n",
       "      <td id=\"T_f0731_row5_col5\" class=\"data row5 col5\" >13.00</td>\n",
       "      <td id=\"T_f0731_row5_col6\" class=\"data row5 col6\" >38.00</td>\n",
       "      <td id=\"T_f0731_row5_col7\" class=\"data row5 col7\" >1.00</td>\n",
       "      <td id=\"T_f0731_row5_col8\" class=\"data row5 col8\" >3.31</td>\n",
       "      <td id=\"T_f0731_row5_col9\" class=\"data row5 col9\" >0.62</td>\n",
       "      <td id=\"T_f0731_row5_col10\" class=\"data row5 col10\" >10.20</td>\n",
       "    </tr>\n",
       "    <tr>\n",
       "      <th id=\"T_f0731_level0_row6\" class=\"row_heading level0 row6\" >75%</th>\n",
       "      <td id=\"T_f0731_row6_col0\" class=\"data row6 col0\" >9.20</td>\n",
       "      <td id=\"T_f0731_row6_col1\" class=\"data row6 col1\" >0.64</td>\n",
       "      <td id=\"T_f0731_row6_col2\" class=\"data row6 col2\" >0.42</td>\n",
       "      <td id=\"T_f0731_row6_col3\" class=\"data row6 col3\" >2.60</td>\n",
       "      <td id=\"T_f0731_row6_col4\" class=\"data row6 col4\" >0.09</td>\n",
       "      <td id=\"T_f0731_row6_col5\" class=\"data row6 col5\" >21.00</td>\n",
       "      <td id=\"T_f0731_row6_col6\" class=\"data row6 col6\" >61.00</td>\n",
       "      <td id=\"T_f0731_row6_col7\" class=\"data row6 col7\" >1.00</td>\n",
       "      <td id=\"T_f0731_row6_col8\" class=\"data row6 col8\" >3.40</td>\n",
       "      <td id=\"T_f0731_row6_col9\" class=\"data row6 col9\" >0.73</td>\n",
       "      <td id=\"T_f0731_row6_col10\" class=\"data row6 col10\" >11.10</td>\n",
       "    </tr>\n",
       "    <tr>\n",
       "      <th id=\"T_f0731_level0_row7\" class=\"row_heading level0 row7\" >max</th>\n",
       "      <td id=\"T_f0731_row7_col0\" class=\"data row7 col0\" >15.90</td>\n",
       "      <td id=\"T_f0731_row7_col1\" class=\"data row7 col1\" >1.58</td>\n",
       "      <td id=\"T_f0731_row7_col2\" class=\"data row7 col2\" >1.00</td>\n",
       "      <td id=\"T_f0731_row7_col3\" class=\"data row7 col3\" >15.50</td>\n",
       "      <td id=\"T_f0731_row7_col4\" class=\"data row7 col4\" >0.61</td>\n",
       "      <td id=\"T_f0731_row7_col5\" class=\"data row7 col5\" >72.00</td>\n",
       "      <td id=\"T_f0731_row7_col6\" class=\"data row7 col6\" >289.00</td>\n",
       "      <td id=\"T_f0731_row7_col7\" class=\"data row7 col7\" >1.00</td>\n",
       "      <td id=\"T_f0731_row7_col8\" class=\"data row7 col8\" >4.01</td>\n",
       "      <td id=\"T_f0731_row7_col9\" class=\"data row7 col9\" >2.00</td>\n",
       "      <td id=\"T_f0731_row7_col10\" class=\"data row7 col10\" >14.90</td>\n",
       "    </tr>\n",
       "  </tbody>\n",
       "</table>\n"
      ],
      "text/plain": [
       "<pandas.io.formats.style.Styler at 0x7f8580192e00>"
      ]
     },
     "metadata": {},
     "output_type": "display_data"
    },
    {
     "data": {
      "text/html": [
       "<style type=\"text/css\">\n",
       "</style>\n",
       "<table id=\"T_957e9\">\n",
       "  <caption>After normalization :</caption>\n",
       "  <thead>\n",
       "    <tr>\n",
       "      <th class=\"blank level0\" >&nbsp;</th>\n",
       "      <th id=\"T_957e9_level0_col0\" class=\"col_heading level0 col0\" >fixed acidity</th>\n",
       "      <th id=\"T_957e9_level0_col1\" class=\"col_heading level0 col1\" >volatile acidity</th>\n",
       "      <th id=\"T_957e9_level0_col2\" class=\"col_heading level0 col2\" >citric acid</th>\n",
       "      <th id=\"T_957e9_level0_col3\" class=\"col_heading level0 col3\" >residual sugar</th>\n",
       "      <th id=\"T_957e9_level0_col4\" class=\"col_heading level0 col4\" >chlorides</th>\n",
       "      <th id=\"T_957e9_level0_col5\" class=\"col_heading level0 col5\" >free sulfur dioxide</th>\n",
       "      <th id=\"T_957e9_level0_col6\" class=\"col_heading level0 col6\" >total sulfur dioxide</th>\n",
       "      <th id=\"T_957e9_level0_col7\" class=\"col_heading level0 col7\" >density</th>\n",
       "      <th id=\"T_957e9_level0_col8\" class=\"col_heading level0 col8\" >pH</th>\n",
       "      <th id=\"T_957e9_level0_col9\" class=\"col_heading level0 col9\" >sulphates</th>\n",
       "      <th id=\"T_957e9_level0_col10\" class=\"col_heading level0 col10\" >alcohol</th>\n",
       "    </tr>\n",
       "  </thead>\n",
       "  <tbody>\n",
       "    <tr>\n",
       "      <th id=\"T_957e9_level0_row0\" class=\"row_heading level0 row0\" >count</th>\n",
       "      <td id=\"T_957e9_row0_col0\" class=\"data row0 col0\" >1279.00</td>\n",
       "      <td id=\"T_957e9_row0_col1\" class=\"data row0 col1\" >1279.00</td>\n",
       "      <td id=\"T_957e9_row0_col2\" class=\"data row0 col2\" >1279.00</td>\n",
       "      <td id=\"T_957e9_row0_col3\" class=\"data row0 col3\" >1279.00</td>\n",
       "      <td id=\"T_957e9_row0_col4\" class=\"data row0 col4\" >1279.00</td>\n",
       "      <td id=\"T_957e9_row0_col5\" class=\"data row0 col5\" >1279.00</td>\n",
       "      <td id=\"T_957e9_row0_col6\" class=\"data row0 col6\" >1279.00</td>\n",
       "      <td id=\"T_957e9_row0_col7\" class=\"data row0 col7\" >1279.00</td>\n",
       "      <td id=\"T_957e9_row0_col8\" class=\"data row0 col8\" >1279.00</td>\n",
       "      <td id=\"T_957e9_row0_col9\" class=\"data row0 col9\" >1279.00</td>\n",
       "      <td id=\"T_957e9_row0_col10\" class=\"data row0 col10\" >1279.00</td>\n",
       "    </tr>\n",
       "    <tr>\n",
       "      <th id=\"T_957e9_level0_row1\" class=\"row_heading level0 row1\" >mean</th>\n",
       "      <td id=\"T_957e9_row1_col0\" class=\"data row1 col0\" >0.00</td>\n",
       "      <td id=\"T_957e9_row1_col1\" class=\"data row1 col1\" >0.00</td>\n",
       "      <td id=\"T_957e9_row1_col2\" class=\"data row1 col2\" >-0.00</td>\n",
       "      <td id=\"T_957e9_row1_col3\" class=\"data row1 col3\" >0.00</td>\n",
       "      <td id=\"T_957e9_row1_col4\" class=\"data row1 col4\" >0.00</td>\n",
       "      <td id=\"T_957e9_row1_col5\" class=\"data row1 col5\" >-0.00</td>\n",
       "      <td id=\"T_957e9_row1_col6\" class=\"data row1 col6\" >-0.00</td>\n",
       "      <td id=\"T_957e9_row1_col7\" class=\"data row1 col7\" >-0.00</td>\n",
       "      <td id=\"T_957e9_row1_col8\" class=\"data row1 col8\" >0.00</td>\n",
       "      <td id=\"T_957e9_row1_col9\" class=\"data row1 col9\" >-0.00</td>\n",
       "      <td id=\"T_957e9_row1_col10\" class=\"data row1 col10\" >-0.00</td>\n",
       "    </tr>\n",
       "    <tr>\n",
       "      <th id=\"T_957e9_level0_row2\" class=\"row_heading level0 row2\" >std</th>\n",
       "      <td id=\"T_957e9_row2_col0\" class=\"data row2 col0\" >1.00</td>\n",
       "      <td id=\"T_957e9_row2_col1\" class=\"data row2 col1\" >1.00</td>\n",
       "      <td id=\"T_957e9_row2_col2\" class=\"data row2 col2\" >1.00</td>\n",
       "      <td id=\"T_957e9_row2_col3\" class=\"data row2 col3\" >1.00</td>\n",
       "      <td id=\"T_957e9_row2_col4\" class=\"data row2 col4\" >1.00</td>\n",
       "      <td id=\"T_957e9_row2_col5\" class=\"data row2 col5\" >1.00</td>\n",
       "      <td id=\"T_957e9_row2_col6\" class=\"data row2 col6\" >1.00</td>\n",
       "      <td id=\"T_957e9_row2_col7\" class=\"data row2 col7\" >1.00</td>\n",
       "      <td id=\"T_957e9_row2_col8\" class=\"data row2 col8\" >1.00</td>\n",
       "      <td id=\"T_957e9_row2_col9\" class=\"data row2 col9\" >1.00</td>\n",
       "      <td id=\"T_957e9_row2_col10\" class=\"data row2 col10\" >1.00</td>\n",
       "    </tr>\n",
       "    <tr>\n",
       "      <th id=\"T_957e9_level0_row3\" class=\"row_heading level0 row3\" >min</th>\n",
       "      <td id=\"T_957e9_row3_col0\" class=\"data row3 col0\" >-2.11</td>\n",
       "      <td id=\"T_957e9_row3_col1\" class=\"data row3 col1\" >-2.28</td>\n",
       "      <td id=\"T_957e9_row3_col2\" class=\"data row3 col2\" >-1.39</td>\n",
       "      <td id=\"T_957e9_row3_col3\" class=\"data row3 col3\" >-1.14</td>\n",
       "      <td id=\"T_957e9_row3_col4\" class=\"data row3 col4\" >-1.64</td>\n",
       "      <td id=\"T_957e9_row3_col5\" class=\"data row3 col5\" >-1.41</td>\n",
       "      <td id=\"T_957e9_row3_col6\" class=\"data row3 col6\" >-1.22</td>\n",
       "      <td id=\"T_957e9_row3_col7\" class=\"data row3 col7\" >-3.49</td>\n",
       "      <td id=\"T_957e9_row3_col8\" class=\"data row3 col8\" >-3.67</td>\n",
       "      <td id=\"T_957e9_row3_col9\" class=\"data row3 col9\" >-1.97</td>\n",
       "      <td id=\"T_957e9_row3_col10\" class=\"data row3 col10\" >-1.94</td>\n",
       "    </tr>\n",
       "    <tr>\n",
       "      <th id=\"T_957e9_level0_row4\" class=\"row_heading level0 row4\" >25%</th>\n",
       "      <td id=\"T_957e9_row4_col0\" class=\"data row4 col0\" >-0.70</td>\n",
       "      <td id=\"T_957e9_row4_col1\" class=\"data row4 col1\" >-0.77</td>\n",
       "      <td id=\"T_957e9_row4_col2\" class=\"data row4 col2\" >-0.92</td>\n",
       "      <td id=\"T_957e9_row4_col3\" class=\"data row4 col3\" >-0.44</td>\n",
       "      <td id=\"T_957e9_row4_col4\" class=\"data row4 col4\" >-0.37</td>\n",
       "      <td id=\"T_957e9_row4_col5\" class=\"data row4 col5\" >-0.84</td>\n",
       "      <td id=\"T_957e9_row4_col6\" class=\"data row4 col6\" >-0.74</td>\n",
       "      <td id=\"T_957e9_row4_col7\" class=\"data row4 col7\" >-0.60</td>\n",
       "      <td id=\"T_957e9_row4_col8\" class=\"data row4 col8\" >-0.64</td>\n",
       "      <td id=\"T_957e9_row4_col9\" class=\"data row4 col9\" >-0.65</td>\n",
       "      <td id=\"T_957e9_row4_col10\" class=\"data row4 col10\" >-0.88</td>\n",
       "    </tr>\n",
       "    <tr>\n",
       "      <th id=\"T_957e9_level0_row5\" class=\"row_heading level0 row5\" >50%</th>\n",
       "      <td id=\"T_957e9_row5_col0\" class=\"data row5 col0\" >-0.25</td>\n",
       "      <td id=\"T_957e9_row5_col1\" class=\"data row5 col1\" >-0.04</td>\n",
       "      <td id=\"T_957e9_row5_col2\" class=\"data row5 col2\" >-0.05</td>\n",
       "      <td id=\"T_957e9_row5_col3\" class=\"data row5 col3\" >-0.23</td>\n",
       "      <td id=\"T_957e9_row5_col4\" class=\"data row5 col4\" >-0.18</td>\n",
       "      <td id=\"T_957e9_row5_col5\" class=\"data row5 col5\" >-0.27</td>\n",
       "      <td id=\"T_957e9_row5_col6\" class=\"data row5 col6\" >-0.25</td>\n",
       "      <td id=\"T_957e9_row5_col7\" class=\"data row5 col7\" >-0.01</td>\n",
       "      <td id=\"T_957e9_row5_col8\" class=\"data row5 col8\" >0.00</td>\n",
       "      <td id=\"T_957e9_row5_col9\" class=\"data row5 col9\" >-0.23</td>\n",
       "      <td id=\"T_957e9_row5_col10\" class=\"data row5 col10\" >-0.21</td>\n",
       "    </tr>\n",
       "    <tr>\n",
       "      <th id=\"T_957e9_level0_row6\" class=\"row_heading level0 row6\" >75%</th>\n",
       "      <td id=\"T_957e9_row6_col0\" class=\"data row6 col0\" >0.48</td>\n",
       "      <td id=\"T_957e9_row6_col1\" class=\"data row6 col1\" >0.63</td>\n",
       "      <td id=\"T_957e9_row6_col2\" class=\"data row6 col2\" >0.77</td>\n",
       "      <td id=\"T_957e9_row6_col3\" class=\"data row6 col3\" >0.05</td>\n",
       "      <td id=\"T_957e9_row6_col4\" class=\"data row6 col4\" >0.08</td>\n",
       "      <td id=\"T_957e9_row6_col5\" class=\"data row6 col5\" >0.49</td>\n",
       "      <td id=\"T_957e9_row6_col6\" class=\"data row6 col6\" >0.45</td>\n",
       "      <td id=\"T_957e9_row6_col7\" class=\"data row6 col7\" >0.57</td>\n",
       "      <td id=\"T_957e9_row6_col8\" class=\"data row6 col8\" >0.58</td>\n",
       "      <td id=\"T_957e9_row6_col9\" class=\"data row6 col9\" >0.42</td>\n",
       "      <td id=\"T_957e9_row6_col10\" class=\"data row6 col10\" >0.65</td>\n",
       "    </tr>\n",
       "    <tr>\n",
       "      <th id=\"T_957e9_level0_row7\" class=\"row_heading level0 row7\" >max</th>\n",
       "      <td id=\"T_957e9_row7_col0\" class=\"data row7 col0\" >4.26</td>\n",
       "      <td id=\"T_957e9_row7_col1\" class=\"data row7 col1\" >5.89</td>\n",
       "      <td id=\"T_957e9_row7_col2\" class=\"data row7 col2\" >3.74</td>\n",
       "      <td id=\"T_957e9_row7_col3\" class=\"data row7 col3\" >9.01</td>\n",
       "      <td id=\"T_957e9_row7_col4\" class=\"data row7 col4\" >11.42</td>\n",
       "      <td id=\"T_957e9_row7_col5\" class=\"data row7 col5\" >5.34</td>\n",
       "      <td id=\"T_957e9_row7_col6\" class=\"data row7 col6\" >7.40</td>\n",
       "      <td id=\"T_957e9_row7_col7\" class=\"data row7 col7\" >3.63</td>\n",
       "      <td id=\"T_957e9_row7_col8\" class=\"data row7 col8\" >4.52</td>\n",
       "      <td id=\"T_957e9_row7_col9\" class=\"data row7 col9\" >8.01</td>\n",
       "      <td id=\"T_957e9_row7_col10\" class=\"data row7 col10\" >4.29</td>\n",
       "    </tr>\n",
       "  </tbody>\n",
       "</table>\n"
      ],
      "text/plain": [
       "<pandas.io.formats.style.Styler at 0x7f86cc2a5630>"
      ]
     },
     "metadata": {},
     "output_type": "display_data"
    }
   ],
   "source": [
    "display(x_train.describe().style.format(\"{0:.2f}\").set_caption(\"Before normalization :\"))\n",
    "\n",
    "mean = x_train.mean()\n",
    "std  = x_train.std()\n",
    "x_train = (x_train - mean) / std\n",
    "x_test  = (x_test  - mean) / std\n",
    "\n",
    "display(x_train.describe().style.format(\"{0:.2f}\").set_caption(\"After normalization :\"))\n",
    "\n",
    "# Convert ou DataFrame to numpy array\n",
    "x_train, y_train = np.array(x_train), np.array(y_train)\n",
    "x_test,  y_test  = np.array(x_test),  np.array(y_test)\n"
   ]
  },
  {
   "cell_type": "markdown",
   "metadata": {},
   "source": [
    "## Step 4 - Build a model\n",
    "More informations about : \n",
    " - [Optimizer](https://keras.io/api/optimizers)\n",
    " - [Activation](https://keras.io/api/layers/activations)\n",
    " - [Loss](https://keras.io/api/losses)\n",
    " - [Metrics](https://keras.io/api/metrics)"
   ]
  },
  {
   "cell_type": "code",
   "execution_count": 7,
   "metadata": {},
   "outputs": [],
   "source": [
    "def get_model_v1(shape):\n",
    "  \n",
    "  model = keras.models.Sequential()\n",
    "  model.add(keras.layers.Input(shape, name=\"InputLayer\"))\n",
    "  model.add(keras.layers.Dense(64, activation='relu', name='Dense_n1'))\n",
    "  model.add(keras.layers.Dense(64, activation='relu', name='Dense_n2'))\n",
    "  model.add(keras.layers.Dense(1, name='Output'))\n",
    "\n",
    "  model.compile(optimizer = 'rmsprop',\n",
    "                loss      = 'mse',\n",
    "                metrics   = ['mae', 'mse'] )\n",
    "  return model"
   ]
  },
  {
   "cell_type": "markdown",
   "metadata": {},
   "source": [
    "## 5 - Train the model\n",
    "### 5.1 - Get it"
   ]
  },
  {
   "cell_type": "code",
   "execution_count": 8,
   "metadata": {},
   "outputs": [
    {
     "data": {
      "text/html": [
       "<pre style=\"white-space:pre;overflow-x:auto;line-height:normal;font-family:Menlo,'DejaVu Sans Mono',consolas,'Courier New',monospace\"><span style=\"font-weight: bold\">Model: \"sequential\"</span>\n",
       "</pre>\n"
      ],
      "text/plain": [
       "\u001b[1mModel: \"sequential\"\u001b[0m\n"
      ]
     },
     "metadata": {},
     "output_type": "display_data"
    },
    {
     "data": {
      "text/html": [
       "<pre style=\"white-space:pre;overflow-x:auto;line-height:normal;font-family:Menlo,'DejaVu Sans Mono',consolas,'Courier New',monospace\">┏━━━━━━━━━━━━━━━━━━━━━━━━━━━━━━━━━┳━━━━━━━━━━━━━━━━━━━━━━━━┳━━━━━━━━━━━━━━━┓\n",
       "┃<span style=\"font-weight: bold\"> Layer (type)                    </span>┃<span style=\"font-weight: bold\"> Output Shape           </span>┃<span style=\"font-weight: bold\">       Param # </span>┃\n",
       "┡━━━━━━━━━━━━━━━━━━━━━━━━━━━━━━━━━╇━━━━━━━━━━━━━━━━━━━━━━━━╇━━━━━━━━━━━━━━━┩\n",
       "│ Dense_n1 (<span style=\"color: #0087ff; text-decoration-color: #0087ff\">Dense</span>)                │ (<span style=\"color: #00d7ff; text-decoration-color: #00d7ff\">None</span>, <span style=\"color: #00af00; text-decoration-color: #00af00\">64</span>)             │           <span style=\"color: #00af00; text-decoration-color: #00af00\">768</span> │\n",
       "├─────────────────────────────────┼────────────────────────┼───────────────┤\n",
       "│ Dense_n2 (<span style=\"color: #0087ff; text-decoration-color: #0087ff\">Dense</span>)                │ (<span style=\"color: #00d7ff; text-decoration-color: #00d7ff\">None</span>, <span style=\"color: #00af00; text-decoration-color: #00af00\">64</span>)             │         <span style=\"color: #00af00; text-decoration-color: #00af00\">4,160</span> │\n",
       "├─────────────────────────────────┼────────────────────────┼───────────────┤\n",
       "│ Output (<span style=\"color: #0087ff; text-decoration-color: #0087ff\">Dense</span>)                  │ (<span style=\"color: #00d7ff; text-decoration-color: #00d7ff\">None</span>, <span style=\"color: #00af00; text-decoration-color: #00af00\">1</span>)              │            <span style=\"color: #00af00; text-decoration-color: #00af00\">65</span> │\n",
       "└─────────────────────────────────┴────────────────────────┴───────────────┘\n",
       "</pre>\n"
      ],
      "text/plain": [
       "┏━━━━━━━━━━━━━━━━━━━━━━━━━━━━━━━━━┳━━━━━━━━━━━━━━━━━━━━━━━━┳━━━━━━━━━━━━━━━┓\n",
       "┃\u001b[1m \u001b[0m\u001b[1mLayer (type)                   \u001b[0m\u001b[1m \u001b[0m┃\u001b[1m \u001b[0m\u001b[1mOutput Shape          \u001b[0m\u001b[1m \u001b[0m┃\u001b[1m \u001b[0m\u001b[1m      Param #\u001b[0m\u001b[1m \u001b[0m┃\n",
       "┡━━━━━━━━━━━━━━━━━━━━━━━━━━━━━━━━━╇━━━━━━━━━━━━━━━━━━━━━━━━╇━━━━━━━━━━━━━━━┩\n",
       "│ Dense_n1 (\u001b[38;5;33mDense\u001b[0m)                │ (\u001b[38;5;45mNone\u001b[0m, \u001b[38;5;34m64\u001b[0m)             │           \u001b[38;5;34m768\u001b[0m │\n",
       "├─────────────────────────────────┼────────────────────────┼───────────────┤\n",
       "│ Dense_n2 (\u001b[38;5;33mDense\u001b[0m)                │ (\u001b[38;5;45mNone\u001b[0m, \u001b[38;5;34m64\u001b[0m)             │         \u001b[38;5;34m4,160\u001b[0m │\n",
       "├─────────────────────────────────┼────────────────────────┼───────────────┤\n",
       "│ Output (\u001b[38;5;33mDense\u001b[0m)                  │ (\u001b[38;5;45mNone\u001b[0m, \u001b[38;5;34m1\u001b[0m)              │            \u001b[38;5;34m65\u001b[0m │\n",
       "└─────────────────────────────────┴────────────────────────┴───────────────┘\n"
      ]
     },
     "metadata": {},
     "output_type": "display_data"
    },
    {
     "data": {
      "text/html": [
       "<pre style=\"white-space:pre;overflow-x:auto;line-height:normal;font-family:Menlo,'DejaVu Sans Mono',consolas,'Courier New',monospace\"><span style=\"font-weight: bold\"> Total params: </span><span style=\"color: #00af00; text-decoration-color: #00af00\">4,993</span> (19.50 KB)\n",
       "</pre>\n"
      ],
      "text/plain": [
       "\u001b[1m Total params: \u001b[0m\u001b[38;5;34m4,993\u001b[0m (19.50 KB)\n"
      ]
     },
     "metadata": {},
     "output_type": "display_data"
    },
    {
     "data": {
      "text/html": [
       "<pre style=\"white-space:pre;overflow-x:auto;line-height:normal;font-family:Menlo,'DejaVu Sans Mono',consolas,'Courier New',monospace\"><span style=\"font-weight: bold\"> Trainable params: </span><span style=\"color: #00af00; text-decoration-color: #00af00\">4,993</span> (19.50 KB)\n",
       "</pre>\n"
      ],
      "text/plain": [
       "\u001b[1m Trainable params: \u001b[0m\u001b[38;5;34m4,993\u001b[0m (19.50 KB)\n"
      ]
     },
     "metadata": {},
     "output_type": "display_data"
    },
    {
     "data": {
      "text/html": [
       "<pre style=\"white-space:pre;overflow-x:auto;line-height:normal;font-family:Menlo,'DejaVu Sans Mono',consolas,'Courier New',monospace\"><span style=\"font-weight: bold\"> Non-trainable params: </span><span style=\"color: #00af00; text-decoration-color: #00af00\">0</span> (0.00 B)\n",
       "</pre>\n"
      ],
      "text/plain": [
       "\u001b[1m Non-trainable params: \u001b[0m\u001b[38;5;34m0\u001b[0m (0.00 B)\n"
      ]
     },
     "metadata": {},
     "output_type": "display_data"
    }
   ],
   "source": [
    "model=get_model_v1( (11,) )\n",
    "\n",
    "model.summary()"
   ]
  },
  {
   "cell_type": "markdown",
   "metadata": {},
   "source": [
    "### 5.2 - Add callback"
   ]
  },
  {
   "cell_type": "code",
   "execution_count": 9,
   "metadata": {},
   "outputs": [],
   "source": [
    "os.makedirs('./run/models',   mode=0o750, exist_ok=True)\n",
    "save_dir = \"./run/models/best_model.keras\"\n",
    "\n",
    "savemodel_callback = keras.callbacks.ModelCheckpoint( filepath=save_dir, monitor='val_mae', mode='max', save_best_only=True)"
   ]
  },
  {
   "cell_type": "markdown",
   "metadata": {},
   "source": [
    "### 5.3 - Train it"
   ]
  },
  {
   "cell_type": "code",
   "execution_count": 10,
   "metadata": {},
   "outputs": [
    {
     "name": "stdout",
     "output_type": "stream",
     "text": [
      "Epoch 1/100\n",
      "\u001b[1m128/128\u001b[0m \u001b[32m━━━━━━━━━━━━━━━━━━━━\u001b[0m\u001b[37m\u001b[0m \u001b[1m1s\u001b[0m 7ms/step - loss: 12.8564 - mae: 3.0665 - mse: 12.8564 - val_loss: 1.4487 - val_mae: 0.9710 - val_mse: 1.4487\n",
      "Epoch 2/100\n",
      "\u001b[1m128/128\u001b[0m \u001b[32m━━━━━━━━━━━━━━━━━━━━\u001b[0m\u001b[37m\u001b[0m \u001b[1m1s\u001b[0m 6ms/step - loss: 1.6272 - mae: 1.0064 - mse: 1.6272 - val_loss: 1.0298 - val_mae: 0.8107 - val_mse: 1.0298\n",
      "Epoch 3/100\n",
      "\u001b[1m128/128\u001b[0m \u001b[32m━━━━━━━━━━━━━━━━━━━━\u001b[0m\u001b[37m\u001b[0m \u001b[1m1s\u001b[0m 6ms/step - loss: 1.0662 - mae: 0.7963 - mse: 1.0662 - val_loss: 0.8814 - val_mae: 0.7381 - val_mse: 0.8814\n",
      "Epoch 4/100\n",
      "\u001b[1m128/128\u001b[0m \u001b[32m━━━━━━━━━━━━━━━━━━━━\u001b[0m\u001b[37m\u001b[0m \u001b[1m1s\u001b[0m 6ms/step - loss: 0.7073 - mae: 0.6509 - mse: 0.7073 - val_loss: 0.6673 - val_mae: 0.6401 - val_mse: 0.6673\n",
      "Epoch 5/100\n",
      "\u001b[1m128/128\u001b[0m \u001b[32m━━━━━━━━━━━━━━━━━━━━\u001b[0m\u001b[37m\u001b[0m \u001b[1m1s\u001b[0m 6ms/step - loss: 0.6131 - mae: 0.5962 - mse: 0.6131 - val_loss: 0.5722 - val_mae: 0.5942 - val_mse: 0.5722\n",
      "Epoch 6/100\n",
      "\u001b[1m128/128\u001b[0m \u001b[32m━━━━━━━━━━━━━━━━━━━━\u001b[0m\u001b[37m\u001b[0m \u001b[1m1s\u001b[0m 6ms/step - loss: 0.4582 - mae: 0.5283 - mse: 0.4582 - val_loss: 0.5852 - val_mae: 0.5943 - val_mse: 0.5852\n",
      "Epoch 7/100\n",
      "\u001b[1m128/128\u001b[0m \u001b[32m━━━━━━━━━━━━━━━━━━━━\u001b[0m\u001b[37m\u001b[0m \u001b[1m1s\u001b[0m 6ms/step - loss: 0.4392 - mae: 0.5131 - mse: 0.4392 - val_loss: 0.5263 - val_mae: 0.5536 - val_mse: 0.5263\n",
      "Epoch 8/100\n",
      "\u001b[1m128/128\u001b[0m \u001b[32m━━━━━━━━━━━━━━━━━━━━\u001b[0m\u001b[37m\u001b[0m \u001b[1m1s\u001b[0m 6ms/step - loss: 0.4145 - mae: 0.5066 - mse: 0.4145 - val_loss: 0.5900 - val_mae: 0.5682 - val_mse: 0.5900\n",
      "Epoch 9/100\n",
      "\u001b[1m128/128\u001b[0m \u001b[32m━━━━━━━━━━━━━━━━━━━━\u001b[0m\u001b[37m\u001b[0m \u001b[1m1s\u001b[0m 7ms/step - loss: 0.3922 - mae: 0.4786 - mse: 0.3922 - val_loss: 0.4923 - val_mae: 0.5379 - val_mse: 0.4923\n",
      "Epoch 10/100\n",
      "\u001b[1m128/128\u001b[0m \u001b[32m━━━━━━━━━━━━━━━━━━━━\u001b[0m\u001b[37m\u001b[0m \u001b[1m1s\u001b[0m 6ms/step - loss: 0.4049 - mae: 0.5023 - mse: 0.4049 - val_loss: 0.5039 - val_mae: 0.5426 - val_mse: 0.5039\n",
      "Epoch 11/100\n",
      "\u001b[1m128/128\u001b[0m \u001b[32m━━━━━━━━━━━━━━━━━━━━\u001b[0m\u001b[37m\u001b[0m \u001b[1m1s\u001b[0m 6ms/step - loss: 0.3702 - mae: 0.4714 - mse: 0.3702 - val_loss: 0.4462 - val_mae: 0.5069 - val_mse: 0.4462\n",
      "Epoch 12/100\n",
      "\u001b[1m128/128\u001b[0m \u001b[32m━━━━━━━━━━━━━━━━━━━━\u001b[0m\u001b[37m\u001b[0m \u001b[1m1s\u001b[0m 6ms/step - loss: 0.3359 - mae: 0.4528 - mse: 0.3359 - val_loss: 0.4857 - val_mae: 0.5270 - val_mse: 0.4857\n",
      "Epoch 13/100\n",
      "\u001b[1m128/128\u001b[0m \u001b[32m━━━━━━━━━━━━━━━━━━━━\u001b[0m\u001b[37m\u001b[0m \u001b[1m1s\u001b[0m 7ms/step - loss: 0.3383 - mae: 0.4501 - mse: 0.3383 - val_loss: 0.4521 - val_mae: 0.5104 - val_mse: 0.4521\n",
      "Epoch 14/100\n",
      "\u001b[1m128/128\u001b[0m \u001b[32m━━━━━━━━━━━━━━━━━━━━\u001b[0m\u001b[37m\u001b[0m \u001b[1m1s\u001b[0m 6ms/step - loss: 0.3504 - mae: 0.4553 - mse: 0.3504 - val_loss: 0.5387 - val_mae: 0.5616 - val_mse: 0.5387\n",
      "Epoch 15/100\n",
      "\u001b[1m128/128\u001b[0m \u001b[32m━━━━━━━━━━━━━━━━━━━━\u001b[0m\u001b[37m\u001b[0m \u001b[1m1s\u001b[0m 6ms/step - loss: 0.3331 - mae: 0.4460 - mse: 0.3331 - val_loss: 0.4685 - val_mae: 0.5273 - val_mse: 0.4685\n",
      "Epoch 16/100\n",
      "\u001b[1m128/128\u001b[0m \u001b[32m━━━━━━━━━━━━━━━━━━━━\u001b[0m\u001b[37m\u001b[0m \u001b[1m1s\u001b[0m 6ms/step - loss: 0.3219 - mae: 0.4397 - mse: 0.3219 - val_loss: 0.4312 - val_mae: 0.4984 - val_mse: 0.4312\n",
      "Epoch 17/100\n",
      "\u001b[1m128/128\u001b[0m \u001b[32m━━━━━━━━━━━━━━━━━━━━\u001b[0m\u001b[37m\u001b[0m \u001b[1m1s\u001b[0m 6ms/step - loss: 0.2971 - mae: 0.4317 - mse: 0.2971 - val_loss: 0.4462 - val_mae: 0.5065 - val_mse: 0.4462\n",
      "Epoch 18/100\n",
      "\u001b[1m128/128\u001b[0m \u001b[32m━━━━━━━━━━━━━━━━━━━━\u001b[0m\u001b[37m\u001b[0m \u001b[1m1s\u001b[0m 6ms/step - loss: 0.3414 - mae: 0.4519 - mse: 0.3414 - val_loss: 0.4569 - val_mae: 0.5085 - val_mse: 0.4569\n",
      "Epoch 19/100\n",
      "\u001b[1m128/128\u001b[0m \u001b[32m━━━━━━━━━━━━━━━━━━━━\u001b[0m\u001b[37m\u001b[0m \u001b[1m1s\u001b[0m 6ms/step - loss: 0.3402 - mae: 0.4471 - mse: 0.3402 - val_loss: 0.4961 - val_mae: 0.5320 - val_mse: 0.4961\n",
      "Epoch 20/100\n",
      "\u001b[1m128/128\u001b[0m \u001b[32m━━━━━━━━━━━━━━━━━━━━\u001b[0m\u001b[37m\u001b[0m \u001b[1m1s\u001b[0m 7ms/step - loss: 0.3148 - mae: 0.4377 - mse: 0.3148 - val_loss: 0.4452 - val_mae: 0.5032 - val_mse: 0.4452\n",
      "Epoch 21/100\n",
      "\u001b[1m128/128\u001b[0m \u001b[32m━━━━━━━━━━━━━━━━━━━━\u001b[0m\u001b[37m\u001b[0m \u001b[1m1s\u001b[0m 6ms/step - loss: 0.2983 - mae: 0.4307 - mse: 0.2983 - val_loss: 0.4885 - val_mae: 0.5285 - val_mse: 0.4885\n",
      "Epoch 22/100\n",
      "\u001b[1m128/128\u001b[0m \u001b[32m━━━━━━━━━━━━━━━━━━━━\u001b[0m\u001b[37m\u001b[0m \u001b[1m1s\u001b[0m 7ms/step - loss: 0.3141 - mae: 0.4394 - mse: 0.3141 - val_loss: 0.4578 - val_mae: 0.5118 - val_mse: 0.4578\n",
      "Epoch 23/100\n",
      "\u001b[1m128/128\u001b[0m \u001b[32m━━━━━━━━━━━━━━━━━━━━\u001b[0m\u001b[37m\u001b[0m \u001b[1m1s\u001b[0m 6ms/step - loss: 0.3032 - mae: 0.4249 - mse: 0.3032 - val_loss: 0.5699 - val_mae: 0.5834 - val_mse: 0.5699\n",
      "Epoch 24/100\n",
      "\u001b[1m128/128\u001b[0m \u001b[32m━━━━━━━━━━━━━━━━━━━━\u001b[0m\u001b[37m\u001b[0m \u001b[1m1s\u001b[0m 6ms/step - loss: 0.2824 - mae: 0.4117 - mse: 0.2824 - val_loss: 0.5271 - val_mae: 0.5708 - val_mse: 0.5271\n",
      "Epoch 25/100\n",
      "\u001b[1m128/128\u001b[0m \u001b[32m━━━━━━━━━━━━━━━━━━━━\u001b[0m\u001b[37m\u001b[0m \u001b[1m1s\u001b[0m 7ms/step - loss: 0.2814 - mae: 0.4201 - mse: 0.2814 - val_loss: 0.4488 - val_mae: 0.5012 - val_mse: 0.4488\n",
      "Epoch 26/100\n",
      "\u001b[1m128/128\u001b[0m \u001b[32m━━━━━━━━━━━━━━━━━━━━\u001b[0m\u001b[37m\u001b[0m \u001b[1m1s\u001b[0m 7ms/step - loss: 0.2913 - mae: 0.4170 - mse: 0.2913 - val_loss: 0.5113 - val_mae: 0.5572 - val_mse: 0.5113\n",
      "Epoch 27/100\n",
      "\u001b[1m128/128\u001b[0m \u001b[32m━━━━━━━━━━━━━━━━━━━━\u001b[0m\u001b[37m\u001b[0m \u001b[1m1s\u001b[0m 7ms/step - loss: 0.2695 - mae: 0.4028 - mse: 0.2695 - val_loss: 0.5346 - val_mae: 0.5680 - val_mse: 0.5346\n",
      "Epoch 28/100\n",
      "\u001b[1m128/128\u001b[0m \u001b[32m━━━━━━━━━━━━━━━━━━━━\u001b[0m\u001b[37m\u001b[0m \u001b[1m1s\u001b[0m 7ms/step - loss: 0.2845 - mae: 0.4173 - mse: 0.2845 - val_loss: 0.4792 - val_mae: 0.5254 - val_mse: 0.4792\n",
      "Epoch 29/100\n",
      "\u001b[1m128/128\u001b[0m \u001b[32m━━━━━━━━━━━━━━━━━━━━\u001b[0m\u001b[37m\u001b[0m \u001b[1m1s\u001b[0m 7ms/step - loss: 0.2680 - mae: 0.4041 - mse: 0.2680 - val_loss: 0.4398 - val_mae: 0.5009 - val_mse: 0.4398\n",
      "Epoch 30/100\n",
      "\u001b[1m128/128\u001b[0m \u001b[32m━━━━━━━━━━━━━━━━━━━━\u001b[0m\u001b[37m\u001b[0m \u001b[1m1s\u001b[0m 6ms/step - loss: 0.2679 - mae: 0.3945 - mse: 0.2679 - val_loss: 0.4477 - val_mae: 0.5008 - val_mse: 0.4477\n",
      "Epoch 31/100\n",
      "\u001b[1m128/128\u001b[0m \u001b[32m━━━━━━━━━━━━━━━━━━━━\u001b[0m\u001b[37m\u001b[0m \u001b[1m1s\u001b[0m 6ms/step - loss: 0.2894 - mae: 0.4157 - mse: 0.2894 - val_loss: 0.4837 - val_mae: 0.5409 - val_mse: 0.4837\n",
      "Epoch 32/100\n",
      "\u001b[1m128/128\u001b[0m \u001b[32m━━━━━━━━━━━━━━━━━━━━\u001b[0m\u001b[37m\u001b[0m \u001b[1m1s\u001b[0m 6ms/step - loss: 0.2700 - mae: 0.4014 - mse: 0.2700 - val_loss: 0.4795 - val_mae: 0.5232 - val_mse: 0.4795\n",
      "Epoch 33/100\n",
      "\u001b[1m128/128\u001b[0m \u001b[32m━━━━━━━━━━━━━━━━━━━━\u001b[0m\u001b[37m\u001b[0m \u001b[1m1s\u001b[0m 6ms/step - loss: 0.2683 - mae: 0.3977 - mse: 0.2683 - val_loss: 0.5503 - val_mae: 0.5711 - val_mse: 0.5503\n",
      "Epoch 34/100\n",
      "\u001b[1m128/128\u001b[0m \u001b[32m━━━━━━━━━━━━━━━━━━━━\u001b[0m\u001b[37m\u001b[0m \u001b[1m1s\u001b[0m 6ms/step - loss: 0.2553 - mae: 0.3846 - mse: 0.2553 - val_loss: 0.4771 - val_mae: 0.5280 - val_mse: 0.4771\n",
      "Epoch 35/100\n",
      "\u001b[1m128/128\u001b[0m \u001b[32m━━━━━━━━━━━━━━━━━━━━\u001b[0m\u001b[37m\u001b[0m \u001b[1m1s\u001b[0m 6ms/step - loss: 0.2573 - mae: 0.3905 - mse: 0.2573 - val_loss: 0.5042 - val_mae: 0.5489 - val_mse: 0.5042\n",
      "Epoch 36/100\n",
      "\u001b[1m128/128\u001b[0m \u001b[32m━━━━━━━━━━━━━━━━━━━━\u001b[0m\u001b[37m\u001b[0m \u001b[1m1s\u001b[0m 6ms/step - loss: 0.2474 - mae: 0.3882 - mse: 0.2474 - val_loss: 0.4817 - val_mae: 0.5241 - val_mse: 0.4817\n",
      "Epoch 37/100\n",
      "\u001b[1m128/128\u001b[0m \u001b[32m━━━━━━━━━━━━━━━━━━━━\u001b[0m\u001b[37m\u001b[0m \u001b[1m1s\u001b[0m 6ms/step - loss: 0.2495 - mae: 0.3934 - mse: 0.2495 - val_loss: 0.5262 - val_mae: 0.5534 - val_mse: 0.5262\n",
      "Epoch 38/100\n",
      "\u001b[1m128/128\u001b[0m \u001b[32m━━━━━━━━━━━━━━━━━━━━\u001b[0m\u001b[37m\u001b[0m \u001b[1m1s\u001b[0m 6ms/step - loss: 0.2594 - mae: 0.3898 - mse: 0.2594 - val_loss: 0.4897 - val_mae: 0.5418 - val_mse: 0.4897\n",
      "Epoch 39/100\n",
      "\u001b[1m128/128\u001b[0m \u001b[32m━━━━━━━━━━━━━━━━━━━━\u001b[0m\u001b[37m\u001b[0m \u001b[1m1s\u001b[0m 6ms/step - loss: 0.2527 - mae: 0.3935 - mse: 0.2527 - val_loss: 0.4937 - val_mae: 0.5205 - val_mse: 0.4937\n",
      "Epoch 40/100\n",
      "\u001b[1m128/128\u001b[0m \u001b[32m━━━━━━━━━━━━━━━━━━━━\u001b[0m\u001b[37m\u001b[0m \u001b[1m1s\u001b[0m 6ms/step - loss: 0.2570 - mae: 0.3933 - mse: 0.2570 - val_loss: 0.4581 - val_mae: 0.5086 - val_mse: 0.4581\n",
      "Epoch 41/100\n",
      "\u001b[1m128/128\u001b[0m \u001b[32m━━━━━━━━━━━━━━━━━━━━\u001b[0m\u001b[37m\u001b[0m \u001b[1m1s\u001b[0m 6ms/step - loss: 0.2445 - mae: 0.3747 - mse: 0.2445 - val_loss: 0.4970 - val_mae: 0.5312 - val_mse: 0.4970\n",
      "Epoch 42/100\n",
      "\u001b[1m128/128\u001b[0m \u001b[32m━━━━━━━━━━━━━━━━━━━━\u001b[0m\u001b[37m\u001b[0m \u001b[1m1s\u001b[0m 6ms/step - loss: 0.2321 - mae: 0.3732 - mse: 0.2321 - val_loss: 0.4903 - val_mae: 0.5286 - val_mse: 0.4903\n",
      "Epoch 43/100\n",
      "\u001b[1m128/128\u001b[0m \u001b[32m━━━━━━━━━━━━━━━━━━━━\u001b[0m\u001b[37m\u001b[0m \u001b[1m1s\u001b[0m 6ms/step - loss: 0.2462 - mae: 0.3821 - mse: 0.2462 - val_loss: 0.4790 - val_mae: 0.5245 - val_mse: 0.4790\n",
      "Epoch 44/100\n",
      "\u001b[1m128/128\u001b[0m \u001b[32m━━━━━━━━━━━━━━━━━━━━\u001b[0m\u001b[37m\u001b[0m \u001b[1m1s\u001b[0m 6ms/step - loss: 0.2397 - mae: 0.3792 - mse: 0.2397 - val_loss: 0.5566 - val_mae: 0.5480 - val_mse: 0.5566\n",
      "Epoch 45/100\n",
      "\u001b[1m128/128\u001b[0m \u001b[32m━━━━━━━━━━━━━━━━━━━━\u001b[0m\u001b[37m\u001b[0m \u001b[1m1s\u001b[0m 6ms/step - loss: 0.2562 - mae: 0.3952 - mse: 0.2562 - val_loss: 0.4762 - val_mae: 0.5272 - val_mse: 0.4762\n",
      "Epoch 46/100\n",
      "\u001b[1m128/128\u001b[0m \u001b[32m━━━━━━━━━━━━━━━━━━━━\u001b[0m\u001b[37m\u001b[0m \u001b[1m1s\u001b[0m 6ms/step - loss: 0.2184 - mae: 0.3630 - mse: 0.2184 - val_loss: 0.4876 - val_mae: 0.5295 - val_mse: 0.4876\n",
      "Epoch 47/100\n",
      "\u001b[1m128/128\u001b[0m \u001b[32m━━━━━━━━━━━━━━━━━━━━\u001b[0m\u001b[37m\u001b[0m \u001b[1m1s\u001b[0m 6ms/step - loss: 0.2423 - mae: 0.3813 - mse: 0.2423 - val_loss: 0.5173 - val_mae: 0.5383 - val_mse: 0.5173\n",
      "Epoch 48/100\n",
      "\u001b[1m128/128\u001b[0m \u001b[32m━━━━━━━━━━━━━━━━━━━━\u001b[0m\u001b[37m\u001b[0m \u001b[1m1s\u001b[0m 6ms/step - loss: 0.2489 - mae: 0.3847 - mse: 0.2489 - val_loss: 0.5516 - val_mae: 0.5656 - val_mse: 0.5516\n",
      "Epoch 49/100\n",
      "\u001b[1m128/128\u001b[0m \u001b[32m━━━━━━━━━━━━━━━━━━━━\u001b[0m\u001b[37m\u001b[0m \u001b[1m1s\u001b[0m 6ms/step - loss: 0.2271 - mae: 0.3704 - mse: 0.2271 - val_loss: 0.5773 - val_mae: 0.5778 - val_mse: 0.5773\n",
      "Epoch 50/100\n",
      "\u001b[1m128/128\u001b[0m \u001b[32m━━━━━━━━━━━━━━━━━━━━\u001b[0m\u001b[37m\u001b[0m \u001b[1m1s\u001b[0m 6ms/step - loss: 0.2417 - mae: 0.3818 - mse: 0.2417 - val_loss: 0.5465 - val_mae: 0.5474 - val_mse: 0.5465\n",
      "Epoch 51/100\n",
      "\u001b[1m128/128\u001b[0m \u001b[32m━━━━━━━━━━━━━━━━━━━━\u001b[0m\u001b[37m\u001b[0m \u001b[1m1s\u001b[0m 6ms/step - loss: 0.2203 - mae: 0.3642 - mse: 0.2203 - val_loss: 0.5059 - val_mae: 0.5208 - val_mse: 0.5059\n",
      "Epoch 52/100\n",
      "\u001b[1m128/128\u001b[0m \u001b[32m━━━━━━━━━━━━━━━━━━━━\u001b[0m\u001b[37m\u001b[0m \u001b[1m1s\u001b[0m 6ms/step - loss: 0.2230 - mae: 0.3604 - mse: 0.2230 - val_loss: 0.5130 - val_mae: 0.5391 - val_mse: 0.5130\n",
      "Epoch 53/100\n",
      "\u001b[1m128/128\u001b[0m \u001b[32m━━━━━━━━━━━━━━━━━━━━\u001b[0m\u001b[37m\u001b[0m \u001b[1m1s\u001b[0m 6ms/step - loss: 0.2504 - mae: 0.3853 - mse: 0.2504 - val_loss: 0.6017 - val_mae: 0.5827 - val_mse: 0.6017\n",
      "Epoch 54/100\n",
      "\u001b[1m128/128\u001b[0m \u001b[32m━━━━━━━━━━━━━━━━━━━━\u001b[0m\u001b[37m\u001b[0m \u001b[1m1s\u001b[0m 6ms/step - loss: 0.2351 - mae: 0.3784 - mse: 0.2351 - val_loss: 0.4841 - val_mae: 0.5302 - val_mse: 0.4841\n",
      "Epoch 55/100\n",
      "\u001b[1m128/128\u001b[0m \u001b[32m━━━━━━━━━━━━━━━━━━━━\u001b[0m\u001b[37m\u001b[0m \u001b[1m1s\u001b[0m 6ms/step - loss: 0.2292 - mae: 0.3736 - mse: 0.2292 - val_loss: 0.4827 - val_mae: 0.5162 - val_mse: 0.4827\n",
      "Epoch 56/100\n",
      "\u001b[1m128/128\u001b[0m \u001b[32m━━━━━━━━━━━━━━━━━━━━\u001b[0m\u001b[37m\u001b[0m \u001b[1m1s\u001b[0m 7ms/step - loss: 0.2170 - mae: 0.3602 - mse: 0.2170 - val_loss: 0.4867 - val_mae: 0.5306 - val_mse: 0.4867\n",
      "Epoch 57/100\n",
      "\u001b[1m128/128\u001b[0m \u001b[32m━━━━━━━━━━━━━━━━━━━━\u001b[0m\u001b[37m\u001b[0m \u001b[1m1s\u001b[0m 7ms/step - loss: 0.2363 - mae: 0.3777 - mse: 0.2363 - val_loss: 0.5163 - val_mae: 0.5492 - val_mse: 0.5163\n",
      "Epoch 58/100\n",
      "\u001b[1m128/128\u001b[0m \u001b[32m━━━━━━━━━━━━━━━━━━━━\u001b[0m\u001b[37m\u001b[0m \u001b[1m1s\u001b[0m 6ms/step - loss: 0.2080 - mae: 0.3512 - mse: 0.2080 - val_loss: 0.5390 - val_mae: 0.5544 - val_mse: 0.5390\n",
      "Epoch 59/100\n",
      "\u001b[1m128/128\u001b[0m \u001b[32m━━━━━━━━━━━━━━━━━━━━\u001b[0m\u001b[37m\u001b[0m \u001b[1m1s\u001b[0m 6ms/step - loss: 0.2026 - mae: 0.3459 - mse: 0.2026 - val_loss: 0.5190 - val_mae: 0.5427 - val_mse: 0.5190\n",
      "Epoch 60/100\n",
      "\u001b[1m128/128\u001b[0m \u001b[32m━━━━━━━━━━━━━━━━━━━━\u001b[0m\u001b[37m\u001b[0m \u001b[1m1s\u001b[0m 6ms/step - loss: 0.2041 - mae: 0.3509 - mse: 0.2041 - val_loss: 0.5180 - val_mae: 0.5328 - val_mse: 0.5180\n",
      "Epoch 61/100\n",
      "\u001b[1m128/128\u001b[0m \u001b[32m━━━━━━━━━━━━━━━━━━━━\u001b[0m\u001b[37m\u001b[0m \u001b[1m1s\u001b[0m 6ms/step - loss: 0.2059 - mae: 0.3483 - mse: 0.2059 - val_loss: 0.5376 - val_mae: 0.5461 - val_mse: 0.5376\n",
      "Epoch 62/100\n",
      "\u001b[1m128/128\u001b[0m \u001b[32m━━━━━━━━━━━━━━━━━━━━\u001b[0m\u001b[37m\u001b[0m \u001b[1m1s\u001b[0m 6ms/step - loss: 0.1991 - mae: 0.3446 - mse: 0.1991 - val_loss: 0.5303 - val_mae: 0.5476 - val_mse: 0.5303\n",
      "Epoch 63/100\n",
      "\u001b[1m128/128\u001b[0m \u001b[32m━━━━━━━━━━━━━━━━━━━━\u001b[0m\u001b[37m\u001b[0m \u001b[1m1s\u001b[0m 6ms/step - loss: 0.2269 - mae: 0.3692 - mse: 0.2269 - val_loss: 0.5439 - val_mae: 0.5657 - val_mse: 0.5439\n",
      "Epoch 64/100\n",
      "\u001b[1m128/128\u001b[0m \u001b[32m━━━━━━━━━━━━━━━━━━━━\u001b[0m\u001b[37m\u001b[0m \u001b[1m1s\u001b[0m 6ms/step - loss: 0.2102 - mae: 0.3542 - mse: 0.2102 - val_loss: 0.5184 - val_mae: 0.5408 - val_mse: 0.5184\n",
      "Epoch 65/100\n",
      "\u001b[1m128/128\u001b[0m \u001b[32m━━━━━━━━━━━━━━━━━━━━\u001b[0m\u001b[37m\u001b[0m \u001b[1m1s\u001b[0m 6ms/step - loss: 0.2090 - mae: 0.3523 - mse: 0.2090 - val_loss: 0.4910 - val_mae: 0.5227 - val_mse: 0.4910\n",
      "Epoch 66/100\n",
      "\u001b[1m128/128\u001b[0m \u001b[32m━━━━━━━━━━━━━━━━━━━━\u001b[0m\u001b[37m\u001b[0m \u001b[1m1s\u001b[0m 6ms/step - loss: 0.2048 - mae: 0.3466 - mse: 0.2048 - val_loss: 0.5373 - val_mae: 0.5515 - val_mse: 0.5373\n",
      "Epoch 67/100\n",
      "\u001b[1m128/128\u001b[0m \u001b[32m━━━━━━━━━━━━━━━━━━━━\u001b[0m\u001b[37m\u001b[0m \u001b[1m1s\u001b[0m 6ms/step - loss: 0.1880 - mae: 0.3308 - mse: 0.1880 - val_loss: 0.5092 - val_mae: 0.5387 - val_mse: 0.5092\n",
      "Epoch 68/100\n",
      "\u001b[1m128/128\u001b[0m \u001b[32m━━━━━━━━━━━━━━━━━━━━\u001b[0m\u001b[37m\u001b[0m \u001b[1m1s\u001b[0m 6ms/step - loss: 0.1942 - mae: 0.3395 - mse: 0.1942 - val_loss: 0.5577 - val_mae: 0.5580 - val_mse: 0.5577\n",
      "Epoch 69/100\n",
      "\u001b[1m128/128\u001b[0m \u001b[32m━━━━━━━━━━━━━━━━━━━━\u001b[0m\u001b[37m\u001b[0m \u001b[1m1s\u001b[0m 6ms/step - loss: 0.1814 - mae: 0.3249 - mse: 0.1814 - val_loss: 0.5603 - val_mae: 0.5747 - val_mse: 0.5603\n",
      "Epoch 70/100\n",
      "\u001b[1m128/128\u001b[0m \u001b[32m━━━━━━━━━━━━━━━━━━━━\u001b[0m\u001b[37m\u001b[0m \u001b[1m1s\u001b[0m 6ms/step - loss: 0.1950 - mae: 0.3443 - mse: 0.1950 - val_loss: 0.4946 - val_mae: 0.5191 - val_mse: 0.4946\n",
      "Epoch 71/100\n",
      "\u001b[1m128/128\u001b[0m \u001b[32m━━━━━━━━━━━━━━━━━━━━\u001b[0m\u001b[37m\u001b[0m \u001b[1m1s\u001b[0m 7ms/step - loss: 0.1914 - mae: 0.3322 - mse: 0.1914 - val_loss: 0.5312 - val_mae: 0.5357 - val_mse: 0.5312\n",
      "Epoch 72/100\n",
      "\u001b[1m128/128\u001b[0m \u001b[32m━━━━━━━━━━━━━━━━━━━━\u001b[0m\u001b[37m\u001b[0m \u001b[1m1s\u001b[0m 7ms/step - loss: 0.1921 - mae: 0.3407 - mse: 0.1921 - val_loss: 0.5089 - val_mae: 0.5267 - val_mse: 0.5089\n",
      "Epoch 73/100\n",
      "\u001b[1m128/128\u001b[0m \u001b[32m━━━━━━━━━━━━━━━━━━━━\u001b[0m\u001b[37m\u001b[0m \u001b[1m1s\u001b[0m 6ms/step - loss: 0.2020 - mae: 0.3450 - mse: 0.2020 - val_loss: 0.5479 - val_mae: 0.5597 - val_mse: 0.5479\n",
      "Epoch 74/100\n",
      "\u001b[1m128/128\u001b[0m \u001b[32m━━━━━━━━━━━━━━━━━━━━\u001b[0m\u001b[37m\u001b[0m \u001b[1m1s\u001b[0m 6ms/step - loss: 0.1751 - mae: 0.3245 - mse: 0.1751 - val_loss: 0.5402 - val_mae: 0.5451 - val_mse: 0.5402\n",
      "Epoch 75/100\n",
      "\u001b[1m128/128\u001b[0m \u001b[32m━━━━━━━━━━━━━━━━━━━━\u001b[0m\u001b[37m\u001b[0m \u001b[1m1s\u001b[0m 6ms/step - loss: 0.2047 - mae: 0.3457 - mse: 0.2047 - val_loss: 0.6238 - val_mae: 0.6126 - val_mse: 0.6238\n",
      "Epoch 76/100\n",
      "\u001b[1m128/128\u001b[0m \u001b[32m━━━━━━━━━━━━━━━━━━━━\u001b[0m\u001b[37m\u001b[0m \u001b[1m1s\u001b[0m 6ms/step - loss: 0.1866 - mae: 0.3350 - mse: 0.1866 - val_loss: 0.5450 - val_mae: 0.5612 - val_mse: 0.5450\n",
      "Epoch 77/100\n",
      "\u001b[1m128/128\u001b[0m \u001b[32m━━━━━━━━━━━━━━━━━━━━\u001b[0m\u001b[37m\u001b[0m \u001b[1m1s\u001b[0m 6ms/step - loss: 0.1885 - mae: 0.3334 - mse: 0.1885 - val_loss: 0.5680 - val_mae: 0.5698 - val_mse: 0.5680\n",
      "Epoch 78/100\n",
      "\u001b[1m128/128\u001b[0m \u001b[32m━━━━━━━━━━━━━━━━━━━━\u001b[0m\u001b[37m\u001b[0m \u001b[1m1s\u001b[0m 6ms/step - loss: 0.1752 - mae: 0.3208 - mse: 0.1752 - val_loss: 0.5625 - val_mae: 0.5511 - val_mse: 0.5625\n",
      "Epoch 79/100\n",
      "\u001b[1m128/128\u001b[0m \u001b[32m━━━━━━━━━━━━━━━━━━━━\u001b[0m\u001b[37m\u001b[0m \u001b[1m1s\u001b[0m 6ms/step - loss: 0.1738 - mae: 0.3225 - mse: 0.1738 - val_loss: 0.5206 - val_mae: 0.5382 - val_mse: 0.5206\n",
      "Epoch 80/100\n",
      "\u001b[1m128/128\u001b[0m \u001b[32m━━━━━━━━━━━━━━━━━━━━\u001b[0m\u001b[37m\u001b[0m \u001b[1m1s\u001b[0m 6ms/step - loss: 0.1702 - mae: 0.3188 - mse: 0.1702 - val_loss: 0.6025 - val_mae: 0.6005 - val_mse: 0.6025\n",
      "Epoch 81/100\n",
      "\u001b[1m128/128\u001b[0m \u001b[32m━━━━━━━━━━━━━━━━━━━━\u001b[0m\u001b[37m\u001b[0m \u001b[1m1s\u001b[0m 6ms/step - loss: 0.1745 - mae: 0.3188 - mse: 0.1745 - val_loss: 0.5853 - val_mae: 0.5779 - val_mse: 0.5853\n",
      "Epoch 82/100\n",
      "\u001b[1m128/128\u001b[0m \u001b[32m━━━━━━━━━━━━━━━━━━━━\u001b[0m\u001b[37m\u001b[0m \u001b[1m1s\u001b[0m 6ms/step - loss: 0.1785 - mae: 0.3221 - mse: 0.1785 - val_loss: 0.5159 - val_mae: 0.5399 - val_mse: 0.5159\n",
      "Epoch 83/100\n",
      "\u001b[1m128/128\u001b[0m \u001b[32m━━━━━━━━━━━━━━━━━━━━\u001b[0m\u001b[37m\u001b[0m \u001b[1m1s\u001b[0m 6ms/step - loss: 0.1707 - mae: 0.3179 - mse: 0.1707 - val_loss: 0.5608 - val_mae: 0.5539 - val_mse: 0.5608\n",
      "Epoch 84/100\n",
      "\u001b[1m128/128\u001b[0m \u001b[32m━━━━━━━━━━━━━━━━━━━━\u001b[0m\u001b[37m\u001b[0m \u001b[1m1s\u001b[0m 6ms/step - loss: 0.1670 - mae: 0.3166 - mse: 0.1670 - val_loss: 0.5300 - val_mae: 0.5457 - val_mse: 0.5300\n",
      "Epoch 85/100\n",
      "\u001b[1m128/128\u001b[0m \u001b[32m━━━━━━━━━━━━━━━━━━━━\u001b[0m\u001b[37m\u001b[0m \u001b[1m1s\u001b[0m 6ms/step - loss: 0.1684 - mae: 0.3123 - mse: 0.1684 - val_loss: 0.5387 - val_mae: 0.5488 - val_mse: 0.5387\n",
      "Epoch 86/100\n",
      "\u001b[1m128/128\u001b[0m \u001b[32m━━━━━━━━━━━━━━━━━━━━\u001b[0m\u001b[37m\u001b[0m \u001b[1m1s\u001b[0m 6ms/step - loss: 0.1664 - mae: 0.3105 - mse: 0.1664 - val_loss: 0.5335 - val_mae: 0.5416 - val_mse: 0.5335\n",
      "Epoch 87/100\n",
      "\u001b[1m128/128\u001b[0m \u001b[32m━━━━━━━━━━━━━━━━━━━━\u001b[0m\u001b[37m\u001b[0m \u001b[1m1s\u001b[0m 6ms/step - loss: 0.1627 - mae: 0.3153 - mse: 0.1627 - val_loss: 0.5991 - val_mae: 0.5709 - val_mse: 0.5991\n",
      "Epoch 88/100\n",
      "\u001b[1m128/128\u001b[0m \u001b[32m━━━━━━━━━━━━━━━━━━━━\u001b[0m\u001b[37m\u001b[0m \u001b[1m1s\u001b[0m 6ms/step - loss: 0.1654 - mae: 0.3103 - mse: 0.1654 - val_loss: 0.5441 - val_mae: 0.5489 - val_mse: 0.5441\n",
      "Epoch 89/100\n",
      "\u001b[1m128/128\u001b[0m \u001b[32m━━━━━━━━━━━━━━━━━━━━\u001b[0m\u001b[37m\u001b[0m \u001b[1m1s\u001b[0m 6ms/step - loss: 0.1505 - mae: 0.2985 - mse: 0.1505 - val_loss: 0.6363 - val_mae: 0.5908 - val_mse: 0.6363\n",
      "Epoch 90/100\n",
      "\u001b[1m128/128\u001b[0m \u001b[32m━━━━━━━━━━━━━━━━━━━━\u001b[0m\u001b[37m\u001b[0m \u001b[1m1s\u001b[0m 6ms/step - loss: 0.1670 - mae: 0.3140 - mse: 0.1670 - val_loss: 0.6008 - val_mae: 0.5931 - val_mse: 0.6008\n",
      "Epoch 91/100\n",
      "\u001b[1m128/128\u001b[0m \u001b[32m━━━━━━━━━━━━━━━━━━━━\u001b[0m\u001b[37m\u001b[0m \u001b[1m1s\u001b[0m 6ms/step - loss: 0.1649 - mae: 0.3117 - mse: 0.1649 - val_loss: 0.5292 - val_mae: 0.5289 - val_mse: 0.5292\n",
      "Epoch 92/100\n",
      "\u001b[1m128/128\u001b[0m \u001b[32m━━━━━━━━━━━━━━━━━━━━\u001b[0m\u001b[37m\u001b[0m \u001b[1m1s\u001b[0m 6ms/step - loss: 0.1589 - mae: 0.3082 - mse: 0.1589 - val_loss: 0.5770 - val_mae: 0.5582 - val_mse: 0.5770\n",
      "Epoch 93/100\n",
      "\u001b[1m128/128\u001b[0m \u001b[32m━━━━━━━━━━━━━━━━━━━━\u001b[0m\u001b[37m\u001b[0m \u001b[1m1s\u001b[0m 6ms/step - loss: 0.1450 - mae: 0.2918 - mse: 0.1450 - val_loss: 0.5502 - val_mae: 0.5512 - val_mse: 0.5502\n",
      "Epoch 94/100\n",
      "\u001b[1m128/128\u001b[0m \u001b[32m━━━━━━━━━━━━━━━━━━━━\u001b[0m\u001b[37m\u001b[0m \u001b[1m1s\u001b[0m 6ms/step - loss: 0.1632 - mae: 0.3104 - mse: 0.1632 - val_loss: 0.5389 - val_mae: 0.5457 - val_mse: 0.5389\n",
      "Epoch 95/100\n",
      "\u001b[1m128/128\u001b[0m \u001b[32m━━━━━━━━━━━━━━━━━━━━\u001b[0m\u001b[37m\u001b[0m \u001b[1m1s\u001b[0m 6ms/step - loss: 0.1506 - mae: 0.2983 - mse: 0.1506 - val_loss: 0.5511 - val_mae: 0.5462 - val_mse: 0.5511\n",
      "Epoch 96/100\n",
      "\u001b[1m128/128\u001b[0m \u001b[32m━━━━━━━━━━━━━━━━━━━━\u001b[0m\u001b[37m\u001b[0m \u001b[1m1s\u001b[0m 6ms/step - loss: 0.1645 - mae: 0.3075 - mse: 0.1645 - val_loss: 0.5795 - val_mae: 0.5603 - val_mse: 0.5795\n",
      "Epoch 97/100\n",
      "\u001b[1m128/128\u001b[0m \u001b[32m━━━━━━━━━━━━━━━━━━━━\u001b[0m\u001b[37m\u001b[0m \u001b[1m1s\u001b[0m 7ms/step - loss: 0.1499 - mae: 0.3015 - mse: 0.1499 - val_loss: 0.6402 - val_mae: 0.6112 - val_mse: 0.6402\n",
      "Epoch 98/100\n",
      "\u001b[1m128/128\u001b[0m \u001b[32m━━━━━━━━━━━━━━━━━━━━\u001b[0m\u001b[37m\u001b[0m \u001b[1m1s\u001b[0m 6ms/step - loss: 0.1581 - mae: 0.3031 - mse: 0.1581 - val_loss: 0.5736 - val_mae: 0.5608 - val_mse: 0.5736\n",
      "Epoch 99/100\n",
      "\u001b[1m128/128\u001b[0m \u001b[32m━━━━━━━━━━━━━━━━━━━━\u001b[0m\u001b[37m\u001b[0m \u001b[1m1s\u001b[0m 7ms/step - loss: 0.1616 - mae: 0.3112 - mse: 0.1616 - val_loss: 0.5816 - val_mae: 0.5619 - val_mse: 0.5816\n",
      "Epoch 100/100\n",
      "\u001b[1m128/128\u001b[0m \u001b[32m━━━━━━━━━━━━━━━━━━━━\u001b[0m\u001b[37m\u001b[0m \u001b[1m1s\u001b[0m 7ms/step - loss: 0.1582 - mae: 0.2969 - mse: 0.1582 - val_loss: 0.5529 - val_mae: 0.5470 - val_mse: 0.5529\n"
     ]
    }
   ],
   "source": [
    "history = model.fit(x_train,\n",
    "                    y_train,\n",
    "                    epochs          = 100,\n",
    "                    batch_size      = 10,\n",
    "                    verbose         = fit_verbosity,\n",
    "                    validation_data = (x_test, y_test),\n",
    "                    callbacks       = [savemodel_callback])"
   ]
  },
  {
   "cell_type": "markdown",
   "metadata": {},
   "source": [
    "## Step 6 - Evaluate\n",
    "### 6.1 - Model evaluation\n",
    "MAE =  Mean Absolute Error (between the labels and predictions)  \n",
    "A mae equal to 3 represents an average error in prediction of $3k."
   ]
  },
  {
   "cell_type": "code",
   "execution_count": 11,
   "metadata": {},
   "outputs": [
    {
     "name": "stdout",
     "output_type": "stream",
     "text": [
      "x_test / loss      : 0.5529\n",
      "x_test / mae       : 0.5470\n",
      "x_test / mse       : 0.5529\n"
     ]
    }
   ],
   "source": [
    "score = model.evaluate(x_test, y_test, verbose=0)\n",
    "\n",
    "print('x_test / loss      : {:5.4f}'.format(score[0]))\n",
    "print('x_test / mae       : {:5.4f}'.format(score[1]))\n",
    "print('x_test / mse       : {:5.4f}'.format(score[2]))"
   ]
  },
  {
   "cell_type": "markdown",
   "metadata": {},
   "source": [
    "### 6.2 - Training history\n",
    "What was the best result during our training ?"
   ]
  },
  {
   "cell_type": "code",
   "execution_count": 12,
   "metadata": {},
   "outputs": [
    {
     "name": "stdout",
     "output_type": "stream",
     "text": [
      "min( val_mae ) : 0.4984\n"
     ]
    }
   ],
   "source": [
    "print(\"min( val_mae ) : {:.4f}\".format( min(history.history[\"val_mae\"]) ) )"
   ]
  },
  {
   "cell_type": "code",
   "execution_count": 13,
   "metadata": {},
   "outputs": [
    {
     "data": {
      "image/png": "[encoded data removed]",
      "text/plain": [
       "<Figure size 800x600 with 1 Axes>"
      ]
     },
     "metadata": {},
     "output_type": "display_data"
    },
    {
     "data": {
      "image/png": "[encoded data removed]",
      "text/plain": [
       "<Figure size 800x600 with 1 Axes>"
      ]
     },
     "metadata": {},
     "output_type": "display_data"
    },
    {
     "data": {
      "image/png": "[encoded data removed]",
      "text/plain": [
       "<Figure size 800x600 with 1 Axes>"
      ]
     },
     "metadata": {},
     "output_type": "display_data"
    }
   ],
   "source": [
    "fidle.scrawler.history( history, plot={'MSE' :['mse', 'val_mse'],\n",
    "                        'MAE' :['mae', 'val_mae'],\n",
    "                        'LOSS':['loss','val_loss']}, save_as='01-history')"
   ]
  },
  {
   "cell_type": "markdown",
   "metadata": {},
   "source": [
    "## Step 7 - Restore a model :"
   ]
  },
  {
   "cell_type": "markdown",
   "metadata": {},
   "source": [
    "### 7.1 - Reload model"
   ]
  },
  {
   "cell_type": "code",
   "execution_count": 14,
   "metadata": {},
   "outputs": [
    {
     "data": {
      "text/html": [
       "<pre style=\"white-space:pre;overflow-x:auto;line-height:normal;font-family:Menlo,'DejaVu Sans Mono',consolas,'Courier New',monospace\"><span style=\"font-weight: bold\">Model: \"sequential\"</span>\n",
       "</pre>\n"
      ],
      "text/plain": [
       "\u001b[1mModel: \"sequential\"\u001b[0m\n"
      ]
     },
     "metadata": {},
     "output_type": "display_data"
    },
    {
     "data": {
      "text/html": [
       "<pre style=\"white-space:pre;overflow-x:auto;line-height:normal;font-family:Menlo,'DejaVu Sans Mono',consolas,'Courier New',monospace\">┏━━━━━━━━━━━━━━━━━━━━━━━━━━━━━━━━━┳━━━━━━━━━━━━━━━━━━━━━━━━┳━━━━━━━━━━━━━━━┓\n",
       "┃<span style=\"font-weight: bold\"> Layer (type)                    </span>┃<span style=\"font-weight: bold\"> Output Shape           </span>┃<span style=\"font-weight: bold\">       Param # </span>┃\n",
       "┡━━━━━━━━━━━━━━━━━━━━━━━━━━━━━━━━━╇━━━━━━━━━━━━━━━━━━━━━━━━╇━━━━━━━━━━━━━━━┩\n",
       "│ Dense_n1 (<span style=\"color: #0087ff; text-decoration-color: #0087ff\">Dense</span>)                │ (<span style=\"color: #00d7ff; text-decoration-color: #00d7ff\">None</span>, <span style=\"color: #00af00; text-decoration-color: #00af00\">64</span>)             │           <span style=\"color: #00af00; text-decoration-color: #00af00\">768</span> │\n",
       "├─────────────────────────────────┼────────────────────────┼───────────────┤\n",
       "│ Dense_n2 (<span style=\"color: #0087ff; text-decoration-color: #0087ff\">Dense</span>)                │ (<span style=\"color: #00d7ff; text-decoration-color: #00d7ff\">None</span>, <span style=\"color: #00af00; text-decoration-color: #00af00\">64</span>)             │         <span style=\"color: #00af00; text-decoration-color: #00af00\">4,160</span> │\n",
       "├─────────────────────────────────┼────────────────────────┼───────────────┤\n",
       "│ Output (<span style=\"color: #0087ff; text-decoration-color: #0087ff\">Dense</span>)                  │ (<span style=\"color: #00d7ff; text-decoration-color: #00d7ff\">None</span>, <span style=\"color: #00af00; text-decoration-color: #00af00\">1</span>)              │            <span style=\"color: #00af00; text-decoration-color: #00af00\">65</span> │\n",
       "└─────────────────────────────────┴────────────────────────┴───────────────┘\n",
       "</pre>\n"
      ],
      "text/plain": [
       "┏━━━━━━━━━━━━━━━━━━━━━━━━━━━━━━━━━┳━━━━━━━━━━━━━━━━━━━━━━━━┳━━━━━━━━━━━━━━━┓\n",
       "┃\u001b[1m \u001b[0m\u001b[1mLayer (type)                   \u001b[0m\u001b[1m \u001b[0m┃\u001b[1m \u001b[0m\u001b[1mOutput Shape          \u001b[0m\u001b[1m \u001b[0m┃\u001b[1m \u001b[0m\u001b[1m      Param #\u001b[0m\u001b[1m \u001b[0m┃\n",
       "┡━━━━━━━━━━━━━━━━━━━━━━━━━━━━━━━━━╇━━━━━━━━━━━━━━━━━━━━━━━━╇━━━━━━━━━━━━━━━┩\n",
       "│ Dense_n1 (\u001b[38;5;33mDense\u001b[0m)                │ (\u001b[38;5;45mNone\u001b[0m, \u001b[38;5;34m64\u001b[0m)             │           \u001b[38;5;34m768\u001b[0m │\n",
       "├─────────────────────────────────┼────────────────────────┼───────────────┤\n",
       "│ Dense_n2 (\u001b[38;5;33mDense\u001b[0m)                │ (\u001b[38;5;45mNone\u001b[0m, \u001b[38;5;34m64\u001b[0m)             │         \u001b[38;5;34m4,160\u001b[0m │\n",
       "├─────────────────────────────────┼────────────────────────┼───────────────┤\n",
       "│ Output (\u001b[38;5;33mDense\u001b[0m)                  │ (\u001b[38;5;45mNone\u001b[0m, \u001b[38;5;34m1\u001b[0m)              │            \u001b[38;5;34m65\u001b[0m │\n",
       "└─────────────────────────────────┴────────────────────────┴───────────────┘\n"
      ]
     },
     "metadata": {},
     "output_type": "display_data"
    },
    {
     "data": {
      "text/html": [
       "<pre style=\"white-space:pre;overflow-x:auto;line-height:normal;font-family:Menlo,'DejaVu Sans Mono',consolas,'Courier New',monospace\"><span style=\"font-weight: bold\"> Total params: </span><span style=\"color: #00af00; text-decoration-color: #00af00\">9,988</span> (39.02 KB)\n",
       "</pre>\n"
      ],
      "text/plain": [
       "\u001b[1m Total params: \u001b[0m\u001b[38;5;34m9,988\u001b[0m (39.02 KB)\n"
      ]
     },
     "metadata": {},
     "output_type": "display_data"
    },
    {
     "data": {
      "text/html": [
       "<pre style=\"white-space:pre;overflow-x:auto;line-height:normal;font-family:Menlo,'DejaVu Sans Mono',consolas,'Courier New',monospace\"><span style=\"font-weight: bold\"> Trainable params: </span><span style=\"color: #00af00; text-decoration-color: #00af00\">4,993</span> (19.50 KB)\n",
       "</pre>\n"
      ],
      "text/plain": [
       "\u001b[1m Trainable params: \u001b[0m\u001b[38;5;34m4,993\u001b[0m (19.50 KB)\n"
      ]
     },
     "metadata": {},
     "output_type": "display_data"
    },
    {
     "data": {
      "text/html": [
       "<pre style=\"white-space:pre;overflow-x:auto;line-height:normal;font-family:Menlo,'DejaVu Sans Mono',consolas,'Courier New',monospace\"><span style=\"font-weight: bold\"> Non-trainable params: </span><span style=\"color: #00af00; text-decoration-color: #00af00\">0</span> (0.00 B)\n",
       "</pre>\n"
      ],
      "text/plain": [
       "\u001b[1m Non-trainable params: \u001b[0m\u001b[38;5;34m0\u001b[0m (0.00 B)\n"
      ]
     },
     "metadata": {},
     "output_type": "display_data"
    },
    {
     "data": {
      "text/html": [
       "<pre style=\"white-space:pre;overflow-x:auto;line-height:normal;font-family:Menlo,'DejaVu Sans Mono',consolas,'Courier New',monospace\"><span style=\"font-weight: bold\"> Optimizer params: </span><span style=\"color: #00af00; text-decoration-color: #00af00\">4,995</span> (19.51 KB)\n",
       "</pre>\n"
      ],
      "text/plain": [
       "\u001b[1m Optimizer params: \u001b[0m\u001b[38;5;34m4,995\u001b[0m (19.51 KB)\n"
      ]
     },
     "metadata": {},
     "output_type": "display_data"
    },
    {
     "name": "stdout",
     "output_type": "stream",
     "text": [
      "Loaded.\n"
     ]
    }
   ],
   "source": [
    "loaded_model = keras.models.load_model('./run/models/best_model.keras')\n",
    "loaded_model.summary()\n",
    "print(\"Loaded.\")"
   ]
  },
  {
   "cell_type": "markdown",
   "metadata": {},
   "source": [
    "### 7.2 - Evaluate it :"
   ]
  },
  {
   "cell_type": "code",
   "execution_count": 15,
   "metadata": {},
   "outputs": [
    {
     "name": "stdout",
     "output_type": "stream",
     "text": [
      "x_test / loss      : 1.4487\n",
      "x_test / mae       : 0.9710\n",
      "x_test / mse       : 1.4487\n"
     ]
    }
   ],
   "source": [
    "score = loaded_model.evaluate(x_test, y_test, verbose=0)\n",
    "\n",
    "print('x_test / loss      : {:5.4f}'.format(score[0]))\n",
    "print('x_test / mae       : {:5.4f}'.format(score[1]))\n",
    "print('x_test / mse       : {:5.4f}'.format(score[2]))"
   ]
  },
  {
   "cell_type": "markdown",
   "metadata": {},
   "source": [
    "### 7.3 - Make a prediction"
   ]
  },
  {
   "cell_type": "code",
   "execution_count": 16,
   "metadata": {},
   "outputs": [],
   "source": [
    "# ---- Pick n entries from our test set\n",
    "n = 200\n",
    "ii = np.random.randint(1,len(x_test),n)\n",
    "x_sample = x_test[ii]\n",
    "y_sample = y_test[ii]"
   ]
  },
  {
   "cell_type": "code",
   "execution_count": 17,
   "metadata": {},
   "outputs": [
    {
     "name": "stdout",
     "output_type": "stream",
     "text": [
      "7/7 - 0s - 1ms/step\n"
     ]
    }
   ],
   "source": [
    "# ---- Make a predictions\n",
    "y_pred = loaded_model.predict( x_sample, verbose=2 )"
   ]
  },
  {
   "cell_type": "code",
   "execution_count": 18,
   "metadata": {},
   "outputs": [
    {
     "name": "stdout",
     "output_type": "stream",
     "text": [
      "Wine    Prediction   Real   Delta\n",
      "000        3.86       5      +1.14 \n",
      "001        5.82       6      +0.18 \n",
      "002        6.09       5      -1.09 \n",
      "003        5.44       6      +0.56 \n",
      "004        4.80       6      +1.20 \n",
      "005        4.26       5      +0.74 \n",
      "006        6.79       8      +1.21 \n",
      "007        6.21       5      -1.21 \n",
      "008        7.31       6      -1.31 \n",
      "009        3.46       6      +2.54 \n",
      "010        5.67       6      +0.33 \n",
      "011        6.46       7      +0.54 \n",
      "012        5.34       6      +0.66 \n",
      "013        3.99       5      +1.01 \n",
      "014        5.14       5      -0.14 \n",
      "015        4.74       6      +1.26 \n",
      "016        3.66       5      +1.34 \n",
      "017        4.09       7      +2.91 \n",
      "018        5.85       6      +0.15 \n",
      "019        5.70       3      -2.70 \n",
      "020        6.54       5      -1.54 \n",
      "021        6.14       5      -1.14 \n",
      "022        4.96       5      +0.04 \n",
      "023        5.20       7      +1.80 \n",
      "024        4.42       5      +0.58 \n",
      "025        5.93       7      +1.07 \n",
      "026        5.67       7      +1.33 \n",
      "027        4.89       6      +1.11 \n",
      "028        3.84       6      +2.16 \n",
      "029        5.16       5      -0.16 \n",
      "030        4.45       5      +0.55 \n",
      "031        4.15       5      +0.85 \n",
      "032        4.75       6      +1.25 \n",
      "033        6.21       7      +0.79 \n",
      "034        3.73       6      +2.27 \n",
      "035        4.74       6      +1.26 \n",
      "036        7.24       5      -2.24 \n",
      "037        4.85       6      +1.15 \n",
      "038        4.81       5      +0.19 \n",
      "039        4.08       5      +0.92 \n",
      "040        5.43       4      -1.43 \n",
      "041        5.26       5      -0.26 \n",
      "042        5.36       6      +0.64 \n",
      "043        4.55       5      +0.45 \n",
      "044        5.03       6      +0.97 \n",
      "045        4.36       5      +0.64 \n",
      "046        5.31       5      -0.31 \n",
      "047        8.41       5      -3.41 \n",
      "048        7.07       7      -0.07 \n",
      "049        5.10       5      -0.10 \n",
      "050        4.64       5      +0.36 \n",
      "051        4.69       5      +0.31 \n",
      "052        5.26       5      -0.26 \n",
      "053        6.50       7      +0.50 \n",
      "054        6.50       7      +0.50 \n",
      "055        5.28       6      +0.72 \n",
      "056        5.74       6      +0.26 \n",
      "057        5.33       6      +0.67 \n",
      "058        4.99       5      +0.01 \n",
      "059        7.02       5      -2.02 \n",
      "060        4.15       5      +0.85 \n",
      "061        5.74       6      +0.26 \n",
      "062        6.50       4      -2.50 \n",
      "063        4.57       6      +1.43 \n",
      "064        6.79       8      +1.21 \n",
      "065        2.63       5      +2.37 \n",
      "066        5.11       5      -0.11 \n",
      "067        5.08       5      -0.08 \n",
      "068        5.31       5      -0.31 \n",
      "069        8.15       6      -2.15 \n",
      "070        4.64       5      +0.36 \n",
      "071        6.59       7      +0.41 \n",
      "072        5.10       5      -0.10 \n",
      "073        4.40       5      +0.60 \n",
      "074        4.97       6      +1.03 \n",
      "075        5.27       5      -0.27 \n",
      "076        4.40       5      +0.60 \n",
      "077        5.43       5      -0.43 \n",
      "078        6.73       8      +1.27 \n",
      "079        7.37       7      -0.37 \n",
      "080        4.54       5      +0.46 \n",
      "081        4.38       6      +1.62 \n",
      "082        5.24       5      -0.24 \n",
      "083        4.74       6      +1.26 \n",
      "084        5.67       7      +1.33 \n",
      "085        5.14       4      -1.14 \n",
      "086        3.62       5      +1.38 \n",
      "087        5.86       5      -0.86 \n",
      "088        6.18       7      +0.82 \n",
      "089        5.12       6      +0.88 \n",
      "090        4.32       7      +2.68 \n",
      "091        3.86       5      +1.14 \n",
      "092        4.29       6      +1.71 \n",
      "093        4.52       5      +0.48 \n",
      "094        5.44       6      +0.56 \n",
      "095        6.06       5      -1.06 \n",
      "096        4.74       6      +1.26 \n",
      "097        5.94       5      -0.94 \n",
      "098        4.91       6      +1.09 \n",
      "099        4.86       5      +0.14 \n",
      "100        3.73       6      +2.27 \n",
      "101        3.46       6      +2.54 \n",
      "102        5.70       6      +0.30 \n",
      "103        3.73       5      +1.27 \n",
      "104        4.91       6      +1.09 \n",
      "105        5.52       5      -0.52 \n",
      "106        6.65       7      +0.35 \n",
      "107        4.83       6      +1.17 \n",
      "108        5.28       7      +1.72 \n",
      "109        4.52       5      +0.48 \n",
      "110        5.11       5      -0.11 \n",
      "111        6.16       7      +0.84 \n",
      "112        4.26       5      +0.74 \n",
      "113        4.96       5      +0.04 \n",
      "114        4.82       5      +0.18 \n",
      "115        4.00       5      +1.00 \n",
      "116        6.18       7      +0.82 \n",
      "117        5.10       5      -0.10 \n",
      "118        6.54       5      -1.54 \n",
      "119        4.98       5      +0.02 \n",
      "120        4.45       5      +0.55 \n",
      "121        7.07       7      -0.07 \n",
      "122        6.18       7      +0.82 \n",
      "123        6.73       8      +1.27 \n",
      "124        6.81       6      -0.81 \n",
      "125        4.87       5      +0.13 \n",
      "126        3.28       7      +3.72 \n",
      "127        3.83       6      +2.17 \n",
      "128        4.34       5      +0.66 \n",
      "129        4.40       5      +0.60 \n",
      "130        6.80       5      -1.80 \n",
      "131        5.59       5      -0.59 \n",
      "132        4.54       5      +0.46 \n",
      "133        4.53       5      +0.47 \n",
      "134        6.17       6      -0.17 \n",
      "135        4.05       6      +1.95 \n",
      "136        5.54       6      +0.46 \n",
      "137        5.13       5      -0.13 \n",
      "138        7.27       7      -0.27 \n",
      "139        5.26       5      -0.26 \n",
      "140        4.40       5      +0.60 \n",
      "141        8.07       7      -1.07 \n",
      "142        5.71       6      +0.29 \n",
      "143        5.23       4      -1.23 \n",
      "144        5.08       5      -0.08 \n",
      "145        4.15       5      +0.85 \n",
      "146        5.74       6      +0.26 \n",
      "147        5.16       5      -0.16 \n",
      "148        4.38       6      +1.62 \n",
      "149        4.35       6      +1.65 \n",
      "150        6.54       5      -1.54 \n",
      "151        5.74       6      +0.26 \n",
      "152        7.20       6      -1.20 \n",
      "153        4.91       6      +1.09 \n",
      "154        5.54       6      +0.46 \n",
      "155        5.54       6      +0.46 \n",
      "156        6.70       7      +0.30 \n",
      "157        5.54       6      +0.46 \n",
      "158        7.20       6      -1.20 \n",
      "159        4.09       7      +2.91 \n",
      "160        4.44       6      +1.56 \n",
      "161        4.86       5      +0.14 \n",
      "162        5.20       7      +1.80 \n",
      "163        6.57       8      +1.43 \n",
      "164        5.57       5      -0.57 \n",
      "165        3.28       7      +3.72 \n",
      "166        5.74       6      +0.26 \n",
      "167        5.38       5      -0.38 \n",
      "168        4.42       5      +0.58 \n",
      "169        5.08       6      +0.92 \n",
      "170        3.84       6      +2.16 \n",
      "171        5.98       4      -1.98 \n",
      "172        4.96       6      +1.04 \n",
      "173        4.20       6      +1.80 \n",
      "174        4.51       5      +0.49 \n",
      "175        5.00       6      +1.00 \n",
      "176        4.83       6      +1.17 \n",
      "177        6.14       5      -1.14 \n",
      "178        5.08       6      +0.92 \n",
      "179        5.27       5      -0.27 \n",
      "180        3.12       6      +2.88 \n",
      "181        5.52       5      -0.52 \n",
      "182        5.11       7      +1.89 \n",
      "183        5.54       6      +0.46 \n",
      "184        4.44       6      +1.56 \n",
      "185        4.09       7      +2.91 \n",
      "186        4.80       6      +1.20 \n",
      "187        4.05       6      +1.95 \n",
      "188        5.38       5      -0.38 \n",
      "189        4.96       5      +0.04 \n",
      "190        4.44       6      +1.56 \n",
      "191        5.48       5      -0.48 \n",
      "192        3.72       7      +3.28 \n",
      "193        4.45       6      +1.55 \n",
      "194        5.24       5      -0.24 \n",
      "195        6.62       5      -1.62 \n",
      "196        7.14       6      -1.14 \n",
      "197        5.34       6      +0.66 \n",
      "198        4.55       5      +0.45 \n",
      "199        4.96       6      +1.04 \n"
     ]
    }
   ],
   "source": [
    "# ---- Show it\n",
    "print('Wine    Prediction   Real   Delta')\n",
    "for i in range(n):\n",
    "    pred   = y_pred[i][0]\n",
    "    real   = y_sample[i]\n",
    "    delta  = real-pred\n",
    "    print(f'{i:03d}        {pred:.2f}       {real}      {delta:+.2f} ')"
   ]
  },
  {
   "cell_type": "markdown",
   "metadata": {},
   "source": [
    "### Few questions :\n",
    "- Can this model be used for red wines from Bordeaux and/or Beaujolais?\n",
    "- What are the limitations of this model?\n",
    "- What are the limitations of this dataset?"
   ]
  },
  {
   "cell_type": "code",
   "execution_count": 19,
   "metadata": {},
   "outputs": [
    {
     "data": {
      "text/markdown": [
       "**End time :** 15/08/24 10:48:17  \n",
       "**Duration :** 00:01:21 030ms  \n",
       "This notebook ends here :-)  \n",
       "[https://fidle.cnrs.fr](https://fidle.cnrs.fr)"
      ],
      "text/plain": [
       "<IPython.core.display.Markdown object>"
      ]
     },
     "metadata": {},
     "output_type": "display_data"
    }
   ],
   "source": [
    "fidle.end()"
   ]
  },
  {
   "cell_type": "markdown",
   "metadata": {},
   "source": [
    "---\n",
    "<img width=\"80px\" src=\"../fidle/img/logo-paysage.svg\"></img>"
   ]
  }
 ],
 "metadata": {
  "kernelspec": {
   "display_name": "Python 3.9.2 ('fidle-env')",
   "language": "python",
   "name": "python3"
  },
  "language_info": {
   "codemirror_mode": {
    "name": "ipython",
    "version": 3
   },
   "file_extension": ".py",
   "mimetype": "text/x-python",
   "name": "python",
   "nbconvert_exporter": "python",
   "pygments_lexer": "ipython3",
   "version": "3.10.12"
  },
  "vscode": {
   "interpreter": {
    "hash": "b3929042cc22c1274d74e3e946c52b845b57cb6d84f2d591ffe0519b38e4896d"
   }
  }
 },
 "nbformat": 4,
 "nbformat_minor": 4
}
